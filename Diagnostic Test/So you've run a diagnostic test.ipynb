{
 "cells": [
  {
   "cell_type": "markdown",
   "metadata": {},
   "source": [
    "# So, You’ve Run a Diagnostic Test"
   ]
  },
  {
   "cell_type": "markdown",
   "metadata": {},
   "source": [
    "### A kernel exploring the how, what and why of diagnostic testing"
   ]
  },
  {
   "cell_type": "markdown",
   "metadata": {},
   "source": [
    "*Rob Harrand, 26th Feb 2018*"
   ]
  },
  {
   "cell_type": "markdown",
   "metadata": {},
   "source": [
    "Datasets used in this kernel,\n",
    "\n",
    "- [Pima Indians Diabetes Database](https://www.kaggle.com/uciml/pima-indians-diabetes-database)\n",
    "- [Indian Liver Patient Records](https://www.kaggle.com/uciml/indian-liver-patient-records)\n",
    "- [Health Analytics](https://www.kaggle.com/rajanand/key-indicators-of-annual-health-survey)\n",
    "- [Health Nutrition and Population Statistics](https://www.kaggle.com/theworldbank/health-nutrition-and-population-statistics)\n"
   ]
  },
  {
   "cell_type": "markdown",
   "metadata": {},
   "source": [
    "### Contents\n",
    "\n",
    "- [Introduction](#Introduction)\n",
    "- [Medical Testing](#Medical Testing)\n",
    "- [Developing a Diagnostic Test](#Developing a Diagnostic Test)\n",
    "- [So, Test development is over?](#So, Test development is over?)\n",
    "- [Confidence Intervals](#Confidence Intervals)\n",
    "- [Enter Rev. Bayes](#Enter Rev. Bayes)\n",
    "- [The Problem with Sensitivity and Specificity: An Example](#The problem with sensitivity and specificity: An example)\n",
    "- [Context Matters - An Example](#Context Matters - An Example)\n",
    "- [Belief Elicitation](#Belief Elicitation)\n",
    "- [From Prior to Posterior Probabilities](#From Prior to Posterior Probabilities)\n",
    "- [Treatment Thresholds](#Treatment Thresholds)\n",
    "- [Closing Thoughts](#Closing Thoughts)\n",
    "- [References](#References)"
   ]
  },
  {
   "cell_type": "markdown",
   "metadata": {},
   "source": [
    "<a id='Introduction'></a>\n",
    "### Introduction"
   ]
  },
  {
   "cell_type": "markdown",
   "metadata": {},
   "source": [
    "A number of year ago, I accompanied a close relative to the doctors as they were due the results from a recent diagnostic test. I won't go into the details, but it was a serious condition. I clearly recall the doctor saying, with a solemn voice and a furrowed brow,\n",
    "\n",
    "***“The results are back. You’ve got a 1 in 64 chance”***\n",
    "\n",
    "This was followed by a few moments of silence and instant, frantic reflection, before we entered a period of deep gloom that lasted several weeks. Thankfully, a follow-up test with a far higher accuracy was performed, and it came back negative (I think the results claimed odds of something like 1 in 300k). We were all relieved, and over the years this negative test result has shown itself to be correct.\n",
    "\n",
    "I later became increasingly interested in the theory behind diagnostic tests, and I now realise that our response to that initial test result could have been better. Instead of being frozen with fear, we should have questioned the details of the result and the test, and appreciated that such tests are far from complete, particularly when taken in isolation.\n"
   ]
  },
  {
   "cell_type": "markdown",
   "metadata": {},
   "source": [
    "<a id='Medical Testing'></a>\n",
    "### Medical Testing"
   ]
  },
  {
   "cell_type": "markdown",
   "metadata": {},
   "source": [
    "***\"Whenever a doctor cannot do good, he must be kept from doing harm\"*** - Hippocrates"
   ]
  },
  {
   "cell_type": "markdown",
   "metadata": {},
   "source": [
    "The act of diagnosing a medical condition is extremely involved$^{[1]}$. When done right, the process is a complex blend of clinical evidence, data, probabilistic rationale and pattern matching, with the consequences of different courses of action kept in mind from a cost and patient care perspective. When done poorly, a range of tests will be performed (often without justification), and conclusions drawn on scant evidence. \n",
    "\n",
    "Medical tests are designed to detect, diagnose or monitor disease in a patient, and take on many different formats, including clinical examinations, imaging, biopsies, genetic analysis, and blood tests. Beyond their cost and usability, the most important question for any test is its effectiveness. In other words, how good is a particular test at detecting, diagnosing or monitoring the condition in question?\n",
    "Diagnostic tests are often sold, marketed, cited and used with **sensitivity** and **specificity** as the headline metrics. Sensitivity and specificity are defined as,"
   ]
  },
  {
   "cell_type": "markdown",
   "metadata": {},
   "source": [
    "\\begin{align}\n",
    "Sensitivity = \\frac{True\\:Positives}{True\\:Positives + False\\:Negatives}\n",
    "\\end{align}"
   ]
  },
  {
   "cell_type": "markdown",
   "metadata": {},
   "source": [
    "\\begin{align}\n",
    "Specificity = \\frac{True\\:Negatives}{True\\:Negatives + False\\:Positives}\n",
    "\\end{align}"
   ]
  },
  {
   "cell_type": "markdown",
   "metadata": {},
   "source": [
    "Notice the denominators. For sensitivity, we have 'true positives', which are of course positives, and 'false negatives', *which are also positives*. So, sensitivity only deals with positive cases, and the logic is the same with specificity for negative cases. The result is that sensitivity is a measure of the probability of getting a positive result out of all the positive cases, and that specificity is a measure of the probability of getting a negative result out of all the negative cases.\n",
    "\n",
    "Another way of phrasing this is that sensitivity of getting a positive result, given that you have the disease. Note that in practice, we're interested in the opposite of this, namely the probability of having the disease, given a positive test result (and similar for not having the disease). For these measures, we use the **positive predictive value (PPV)** and **negative predictive value (NPV)**, respectively,"
   ]
  },
  {
   "cell_type": "markdown",
   "metadata": {},
   "source": [
    "\\begin{align}\n",
    "PPV = \\frac{True\\:Positives}{True\\:Positives + False\\:Positives}\n",
    "\\end{align}"
   ]
  },
  {
   "cell_type": "markdown",
   "metadata": {},
   "source": [
    "\\begin{align}\n",
    "NPV = \\frac{True\\:Negatives}{False\\:Negatives + True\\:Negatives}\n",
    "\\end{align}"
   ]
  },
  {
   "cell_type": "markdown",
   "metadata": {},
   "source": [
    "Now we have a mix of positives and negatives in the denominators. Despite being arguably more useful, sensitivity and specificity tend to be the measures of primary focus."
   ]
  },
  {
   "cell_type": "markdown",
   "metadata": {},
   "source": [
    "So, let's take a look at some data. Looking at the various Kaggle datasets, the **Pima Indians dataset** looks useful for exploring these ideas,"
   ]
  },
  {
   "cell_type": "markdown",
   "metadata": {},
   "source": [
    "#### Pima Indians Diabetes Dataset"
   ]
  },
  {
   "cell_type": "markdown",
   "metadata": {},
   "source": [
    "First, load the data,"
   ]
  },
  {
   "cell_type": "code",
   "execution_count": 280,
   "metadata": {
    "collapsed": false
   },
   "outputs": [],
   "source": [
    "import pandas as pd\n",
    "path = 'C:\\\\Users\\\\rob.harrand\\\\Documents\\\\Python Scripts\\\\Kaggle\\\\Diagnostic Test\\\\Data\\\\'\n",
    "\n",
    "diabetes = pd.read_csv(path + 'pima-indians-diabetes-database\\\\diabetes.csv')"
   ]
  },
  {
   "cell_type": "markdown",
   "metadata": {},
   "source": [
    "Then have a quick look at the details,"
   ]
  },
  {
   "cell_type": "code",
   "execution_count": 281,
   "metadata": {
    "collapsed": false
   },
   "outputs": [
    {
     "name": "stdout",
     "output_type": "stream",
     "text": [
      "<class 'pandas.core.frame.DataFrame'>\n",
      "RangeIndex: 768 entries, 0 to 767\n",
      "Data columns (total 9 columns):\n",
      "Pregnancies                 768 non-null int64\n",
      "Glucose                     768 non-null int64\n",
      "BloodPressure               768 non-null int64\n",
      "SkinThickness               768 non-null int64\n",
      "Insulin                     768 non-null int64\n",
      "BMI                         768 non-null float64\n",
      "DiabetesPedigreeFunction    768 non-null float64\n",
      "Age                         768 non-null int64\n",
      "Outcome                     768 non-null int64\n",
      "dtypes: float64(2), int64(7)\n",
      "memory usage: 54.1 KB\n"
     ]
    }
   ],
   "source": [
    "diabetes.info()"
   ]
  },
  {
   "cell_type": "markdown",
   "metadata": {},
   "source": [
    "Looking at some of the actual data always helps,"
   ]
  },
  {
   "cell_type": "code",
   "execution_count": 282,
   "metadata": {
    "collapsed": false
   },
   "outputs": [
    {
     "data": {
      "text/html": [
       "<div>\n",
       "<table border=\"1\" class=\"dataframe\">\n",
       "  <thead>\n",
       "    <tr style=\"text-align: right;\">\n",
       "      <th></th>\n",
       "      <th>Pregnancies</th>\n",
       "      <th>Glucose</th>\n",
       "      <th>BloodPressure</th>\n",
       "      <th>SkinThickness</th>\n",
       "      <th>Insulin</th>\n",
       "      <th>BMI</th>\n",
       "      <th>DiabetesPedigreeFunction</th>\n",
       "      <th>Age</th>\n",
       "      <th>Outcome</th>\n",
       "    </tr>\n",
       "  </thead>\n",
       "  <tbody>\n",
       "    <tr>\n",
       "      <th>0</th>\n",
       "      <td>6</td>\n",
       "      <td>148</td>\n",
       "      <td>72</td>\n",
       "      <td>35</td>\n",
       "      <td>0</td>\n",
       "      <td>33.6</td>\n",
       "      <td>0.627</td>\n",
       "      <td>50</td>\n",
       "      <td>1</td>\n",
       "    </tr>\n",
       "    <tr>\n",
       "      <th>1</th>\n",
       "      <td>1</td>\n",
       "      <td>85</td>\n",
       "      <td>66</td>\n",
       "      <td>29</td>\n",
       "      <td>0</td>\n",
       "      <td>26.6</td>\n",
       "      <td>0.351</td>\n",
       "      <td>31</td>\n",
       "      <td>0</td>\n",
       "    </tr>\n",
       "    <tr>\n",
       "      <th>2</th>\n",
       "      <td>8</td>\n",
       "      <td>183</td>\n",
       "      <td>64</td>\n",
       "      <td>0</td>\n",
       "      <td>0</td>\n",
       "      <td>23.3</td>\n",
       "      <td>0.672</td>\n",
       "      <td>32</td>\n",
       "      <td>1</td>\n",
       "    </tr>\n",
       "    <tr>\n",
       "      <th>3</th>\n",
       "      <td>1</td>\n",
       "      <td>89</td>\n",
       "      <td>66</td>\n",
       "      <td>23</td>\n",
       "      <td>94</td>\n",
       "      <td>28.1</td>\n",
       "      <td>0.167</td>\n",
       "      <td>21</td>\n",
       "      <td>0</td>\n",
       "    </tr>\n",
       "    <tr>\n",
       "      <th>4</th>\n",
       "      <td>0</td>\n",
       "      <td>137</td>\n",
       "      <td>40</td>\n",
       "      <td>35</td>\n",
       "      <td>168</td>\n",
       "      <td>43.1</td>\n",
       "      <td>2.288</td>\n",
       "      <td>33</td>\n",
       "      <td>1</td>\n",
       "    </tr>\n",
       "  </tbody>\n",
       "</table>\n",
       "</div>"
      ],
      "text/plain": [
       "   Pregnancies  Glucose  BloodPressure  SkinThickness  Insulin   BMI  \\\n",
       "0            6      148             72             35        0  33.6   \n",
       "1            1       85             66             29        0  26.6   \n",
       "2            8      183             64              0        0  23.3   \n",
       "3            1       89             66             23       94  28.1   \n",
       "4            0      137             40             35      168  43.1   \n",
       "\n",
       "   DiabetesPedigreeFunction  Age  Outcome  \n",
       "0                     0.627   50        1  \n",
       "1                     0.351   31        0  \n",
       "2                     0.672   32        1  \n",
       "3                     0.167   21        0  \n",
       "4                     2.288   33        1  "
      ]
     },
     "execution_count": 282,
     "metadata": {},
     "output_type": "execute_result"
    }
   ],
   "source": [
    "diabetes.head()"
   ]
  },
  {
   "cell_type": "markdown",
   "metadata": {},
   "source": [
    "As you can see, there are a number of 'medical' related pieces of information. Using the lexicon of machine learning, we can frame this data as having one **target variable** ('Outcome'), with the rest being **predictor variables**. The outcome field is a Boolean telling us whether or not the person in question had diabetes or not.\n",
    "\n",
    "Let's put together a very simple model to predict this outcome based upon some of the predictor variables. Note that I'm not going into the statistics of machine learning here (Kaggle has plenty of examples!). What I'm concerned about is the *interpretation* of the results, rather than optimising the underlying model.\n",
    "\n",
    "Before diving into creating the model, let's briefly explore the data. First, what is the balance of outcomes?"
   ]
  },
  {
   "cell_type": "code",
   "execution_count": 283,
   "metadata": {
    "collapsed": false
   },
   "outputs": [
    {
     "data": {
      "text/plain": [
       "<matplotlib.axes._subplots.AxesSubplot at 0x232a0a900f0>"
      ]
     },
     "execution_count": 283,
     "metadata": {},
     "output_type": "execute_result"
    },
    {
     "data": {
      "image/png": "[encoded data removed]",
      "text/plain": [
       "<matplotlib.figure.Figure at 0x2329f0470b8>"
      ]
     },
     "metadata": {},
     "output_type": "display_data"
    }
   ],
   "source": [
    "import seaborn as sns\n",
    "%matplotlib inline\n",
    "\n",
    "sns.countplot(x='Outcome', data=diabetes, palette='hls')"
   ]
  },
  {
   "cell_type": "markdown",
   "metadata": {},
   "source": [
    "What about looking at some mean numbers, according to outcome?"
   ]
  },
  {
   "cell_type": "code",
   "execution_count": 284,
   "metadata": {
    "collapsed": false
   },
   "outputs": [
    {
     "data": {
      "text/html": [
       "<div>\n",
       "<table border=\"1\" class=\"dataframe\">\n",
       "  <thead>\n",
       "    <tr style=\"text-align: right;\">\n",
       "      <th></th>\n",
       "      <th>Pregnancies</th>\n",
       "      <th>Glucose</th>\n",
       "      <th>BloodPressure</th>\n",
       "      <th>SkinThickness</th>\n",
       "      <th>Insulin</th>\n",
       "      <th>BMI</th>\n",
       "      <th>DiabetesPedigreeFunction</th>\n",
       "      <th>Age</th>\n",
       "    </tr>\n",
       "    <tr>\n",
       "      <th>Outcome</th>\n",
       "      <th></th>\n",
       "      <th></th>\n",
       "      <th></th>\n",
       "      <th></th>\n",
       "      <th></th>\n",
       "      <th></th>\n",
       "      <th></th>\n",
       "      <th></th>\n",
       "    </tr>\n",
       "  </thead>\n",
       "  <tbody>\n",
       "    <tr>\n",
       "      <th>0</th>\n",
       "      <td>3.298000</td>\n",
       "      <td>109.980000</td>\n",
       "      <td>68.184000</td>\n",
       "      <td>19.664000</td>\n",
       "      <td>68.792000</td>\n",
       "      <td>30.304200</td>\n",
       "      <td>0.429734</td>\n",
       "      <td>31.190000</td>\n",
       "    </tr>\n",
       "    <tr>\n",
       "      <th>1</th>\n",
       "      <td>4.865672</td>\n",
       "      <td>141.257463</td>\n",
       "      <td>70.824627</td>\n",
       "      <td>22.164179</td>\n",
       "      <td>100.335821</td>\n",
       "      <td>35.142537</td>\n",
       "      <td>0.550500</td>\n",
       "      <td>37.067164</td>\n",
       "    </tr>\n",
       "  </tbody>\n",
       "</table>\n",
       "</div>"
      ],
      "text/plain": [
       "         Pregnancies     Glucose  BloodPressure  SkinThickness     Insulin  \\\n",
       "Outcome                                                                      \n",
       "0           3.298000  109.980000      68.184000      19.664000   68.792000   \n",
       "1           4.865672  141.257463      70.824627      22.164179  100.335821   \n",
       "\n",
       "               BMI  DiabetesPedigreeFunction        Age  \n",
       "Outcome                                                  \n",
       "0        30.304200                  0.429734  31.190000  \n",
       "1        35.142537                  0.550500  37.067164  "
      ]
     },
     "execution_count": 284,
     "metadata": {},
     "output_type": "execute_result"
    }
   ],
   "source": [
    "diabetes.groupby('Outcome').mean()"
   ]
  },
  {
   "cell_type": "markdown",
   "metadata": {},
   "source": [
    "It looks like if you have 4.86 children, you might be in trouble.\n",
    "\n",
    "Next, I'll load a few bits and pieces, and then check for any missing values,"
   ]
  },
  {
   "cell_type": "code",
   "execution_count": 285,
   "metadata": {
    "collapsed": false
   },
   "outputs": [],
   "source": [
    "import numpy as np\n",
    "from sklearn import linear_model, datasets, metrics\n",
    "from sklearn.linear_model import LogisticRegression\n",
    "from sklearn.metrics import roc_curve, auc\n",
    "import math\n",
    "import matplotlib.pyplot as plt\n",
    "from sklearn.model_selection import train_test_split"
   ]
  },
  {
   "cell_type": "code",
   "execution_count": 286,
   "metadata": {
    "collapsed": false
   },
   "outputs": [
    {
     "data": {
      "text/plain": [
       "Pregnancies                 0\n",
       "Glucose                     0\n",
       "BloodPressure               0\n",
       "SkinThickness               0\n",
       "Insulin                     0\n",
       "BMI                         0\n",
       "DiabetesPedigreeFunction    0\n",
       "Age                         0\n",
       "Outcome                     0\n",
       "dtype: int64"
      ]
     },
     "execution_count": 286,
     "metadata": {},
     "output_type": "execute_result"
    }
   ],
   "source": [
    "diabetes.isnull().sum()"
   ]
  },
  {
   "cell_type": "markdown",
   "metadata": {},
   "source": [
    "I don't know a lot about diabetes, but I'm pretty sure glucose is important! Let's use a box-plot to see the difference in terms of outcome,"
   ]
  },
  {
   "cell_type": "code",
   "execution_count": 287,
   "metadata": {
    "collapsed": false
   },
   "outputs": [
    {
     "data": {
      "text/plain": [
       "<matplotlib.axes._subplots.AxesSubplot at 0x2329eee6b38>"
      ]
     },
     "execution_count": 287,
     "metadata": {},
     "output_type": "execute_result"
    },
    {
     "data": {
      "image/png": "[encoded data removed]",
      "text/plain": [
       "<matplotlib.figure.Figure at 0x232a0899400>"
      ]
     },
     "metadata": {},
     "output_type": "display_data"
    }
   ],
   "source": [
    "sns.boxplot(x='Outcome', y='Glucose', data=diabetes, palette='hls')"
   ]
  },
  {
   "cell_type": "markdown",
   "metadata": {},
   "source": [
    "And of course, if we wanted to get into feature selection, the classic correlation plot would be useful,"
   ]
  },
  {
   "cell_type": "code",
   "execution_count": 288,
   "metadata": {
    "collapsed": false
   },
   "outputs": [
    {
     "data": {
      "text/plain": [
       "<matplotlib.axes._subplots.AxesSubplot at 0x2329f1d1e48>"
      ]
     },
     "execution_count": 288,
     "metadata": {},
     "output_type": "execute_result"
    },
    {
     "data": {
      "image/png": "[encoded data removed]",
      "text/plain": [
       "<matplotlib.figure.Figure at 0x2329f63cdd8>"
      ]
     },
     "metadata": {},
     "output_type": "display_data"
    }
   ],
   "source": [
    "sns.heatmap(diabetes.corr())"
   ]
  },
  {
   "cell_type": "markdown",
   "metadata": {},
   "source": [
    "OK, let's create a quick, crude model using logistic regression (including splitting into training and test sets, and making predictions),"
   ]
  },
  {
   "cell_type": "code",
   "execution_count": 289,
   "metadata": {
    "collapsed": false
   },
   "outputs": [],
   "source": [
    "X_train, X_test, y_train, y_test = train_test_split(diabetes.drop('Outcome', 1), diabetes['Outcome'], test_size = .3, random_state=25)"
   ]
  },
  {
   "cell_type": "code",
   "execution_count": 290,
   "metadata": {
    "collapsed": false
   },
   "outputs": [
    {
     "data": {
      "text/plain": [
       "LogisticRegression(C=1.0, class_weight=None, dual=False, fit_intercept=True,\n",
       "          intercept_scaling=1, max_iter=100, multi_class='ovr', n_jobs=1,\n",
       "          penalty='l2', random_state=None, solver='liblinear', tol=0.0001,\n",
       "          verbose=0, warm_start=False)"
      ]
     },
     "execution_count": 290,
     "metadata": {},
     "output_type": "execute_result"
    }
   ],
   "source": [
    "LogReg = LogisticRegression()\n",
    "LogReg.fit(X_train, y_train)"
   ]
  },
  {
   "cell_type": "code",
   "execution_count": 291,
   "metadata": {
    "collapsed": false
   },
   "outputs": [],
   "source": [
    "y_pred_quant = LogReg.predict_proba(X_test)[:, 1] #Only keep the first column, which is the 'pos' values\n",
    "y_pred_bin = LogReg.predict(X_test)"
   ]
  },
  {
   "cell_type": "markdown",
   "metadata": {},
   "source": [
    "Now let's create a confusion matrix, and work out the sensitivity and specificity,"
   ]
  },
  {
   "cell_type": "code",
   "execution_count": 292,
   "metadata": {
    "collapsed": false
   },
   "outputs": [
    {
     "data": {
      "text/plain": [
       "array([[139,  21],\n",
       "       [ 28,  43]])"
      ]
     },
     "execution_count": 292,
     "metadata": {},
     "output_type": "execute_result"
    }
   ],
   "source": [
    "from sklearn.metrics import confusion_matrix\n",
    "confusion_matrix = metrics.confusion_matrix(y_test, y_pred_bin)\n",
    "confusion_matrix"
   ]
  },
  {
   "cell_type": "code",
   "execution_count": 293,
   "metadata": {
    "collapsed": false
   },
   "outputs": [
    {
     "name": "stdout",
     "output_type": "stream",
     "text": [
      "Sensitivity :  0.86875\n",
      "Specificity :  0.605633802817\n"
     ]
    }
   ],
   "source": [
    "from sklearn.metrics import classification_report\n",
    "\n",
    "total=sum(sum(confusion_matrix))\n",
    "\n",
    "sensitivity = confusion_matrix[0,0]/(confusion_matrix[0,0]+confusion_matrix[0,1])\n",
    "print('Sensitivity : ', sensitivity )\n",
    "\n",
    "specificity = confusion_matrix[1,1]/(confusion_matrix[1,0]+confusion_matrix[1,1])\n",
    "print('Specificity : ', specificity)"
   ]
  },
  {
   "cell_type": "markdown",
   "metadata": {},
   "source": [
    "Now we encounter the first issue in the world of diagnostic testing, which is that sensitivity and specificity are often treated as static, where-as it of course depends upon the threshold you choose for determining what classes as a positive and what classes as a negative. To check the full range, we use a **[Receiver Operator Curve (ROC)](https://en.wikipedia.org/wiki/Receiver_operating_characteristic)**,"
   ]
  },
  {
   "cell_type": "code",
   "execution_count": 294,
   "metadata": {
    "collapsed": false
   },
   "outputs": [],
   "source": [
    "fpr, tpr, thresholds = metrics.roc_curve(y_test, y_pred_quant)"
   ]
  },
  {
   "cell_type": "code",
   "execution_count": 295,
   "metadata": {
    "collapsed": false
   },
   "outputs": [
    {
     "data": {
      "image/png": "[encoded data removed]",
      "text/plain": [
       "<matplotlib.figure.Figure at 0x232a0b46f60>"
      ]
     },
     "metadata": {},
     "output_type": "display_data"
    }
   ],
   "source": [
    "plt.plot(fpr, tpr)\n",
    "plt.xlim([0.0, 1.0])\n",
    "plt.ylim([0.0, 1.0])\n",
    "plt.rcParams['font.size'] = 12\n",
    "plt.title('ROC curve for diabetes classifier')\n",
    "plt.xlabel('False Positive Rate (1 - Specificity)')\n",
    "plt.ylabel('True Positive Rate (Sensitivity)')\n",
    "plt.grid(True)\n",
    "#plt.axhline(y=sensitivity, color='r')\n",
    "#plt.axvline(x=1-specificity, color='r')"
   ]
  },
  {
   "cell_type": "markdown",
   "metadata": {},
   "source": [
    "Another common metric is the Area Under the Curve, or AUC. This is a convenient way to capture the performance of a model in a single number, although it's not without certain issues$^{[2]}$. As a rule of thumb, an AUC can be classed as follows$^{[3]}$,\n",
    "\n",
    "- 0.90 - 1.00 = excellent\n",
    "- 0.80 - 0.90 = good\n",
    "- 0.70 - 0.80 = fair\n",
    "- 0.60 - 0.70 = poor\n",
    "- 0.50 - 0.60 = fail\n",
    "\n",
    "Let's see what the above ROC gives us,"
   ]
  },
  {
   "cell_type": "code",
   "execution_count": 296,
   "metadata": {
    "collapsed": false
   },
   "outputs": [
    {
     "data": {
      "text/plain": [
       "0.80730633802816909"
      ]
     },
     "execution_count": 296,
     "metadata": {},
     "output_type": "execute_result"
    }
   ],
   "source": [
    "metrics.auc(fpr, tpr)"
   ]
  },
  {
   "cell_type": "markdown",
   "metadata": {},
   "source": [
    "<a id='Developing a Diagnostic Test'></a>\n",
    "### Developing a Diagnostic Test"
   ]
  },
  {
   "cell_type": "markdown",
   "metadata": {},
   "source": [
    "***\"I am dying from the treatment of too many physicians\"*** - Alexander the Great"
   ]
  },
  {
   "cell_type": "markdown",
   "metadata": {},
   "source": [
    "So far, so good. You have a dataset with dozens of predictor variables, you throw them at an algorithm, and you end up with a model to predict new cases. In the medical diagnostic world, however, this isn't how it usually works. The first reason is that gathering well characterised cases is hard, because to be able to call one sample 'disease A' and another 'disease B', you have to follow these cases up, perhaps with expensive '[**gold-standard tests**](https://en.wikipedia.org/wiki/Gold_standard_(test))', and/or follow them for many months to see how their condition evolves. Another complication is that people often have more than one thing wrong with them, so seeing that a certain blood-marker is raised in a person with diabetes *might* be due to the diabetes, but it may also be due to some other underlying condition.\n",
    "\n",
    "What you're typically left with is a relatively low number of cases (a few hundred if you're lucky) with one or more blood markers measured. These cases may also have some clinical information. Often, a test is based upon just a single marker (take a look at [**acute phase proteins**](https://en.wikipedia.org/wiki/Acute-phase_protein) for instance), with no additional information. No fancy machine learning is employed, it is simply a case of measuring the marker of interest in two cohorts of patients, picking an appropriate cut-off (usually via ROC analysis), and then commercially launching the test. Let's see what this looks like with the **Indian liver patients dataset**,"
   ]
  },
  {
   "cell_type": "markdown",
   "metadata": {},
   "source": [
    "#### Indian Liver Patients Dataset"
   ]
  },
  {
   "cell_type": "code",
   "execution_count": 297,
   "metadata": {
    "collapsed": false
   },
   "outputs": [],
   "source": [
    "liver = pd.read_csv(path + 'indian-liver-patient-records\\\\indian_liver_patient.csv')"
   ]
  },
  {
   "cell_type": "code",
   "execution_count": 298,
   "metadata": {
    "collapsed": false
   },
   "outputs": [
    {
     "name": "stdout",
     "output_type": "stream",
     "text": [
      "<class 'pandas.core.frame.DataFrame'>\n",
      "RangeIndex: 583 entries, 0 to 582\n",
      "Data columns (total 11 columns):\n",
      "Age                           583 non-null int64\n",
      "Gender                        583 non-null object\n",
      "Total_Bilirubin               583 non-null float64\n",
      "Direct_Bilirubin              583 non-null float64\n",
      "Alkaline_Phosphotase          583 non-null int64\n",
      "Alamine_Aminotransferase      583 non-null int64\n",
      "Aspartate_Aminotransferase    583 non-null int64\n",
      "Total_Protiens                583 non-null float64\n",
      "Albumin                       583 non-null float64\n",
      "Albumin_and_Globulin_Ratio    579 non-null float64\n",
      "Dataset                       583 non-null int64\n",
      "dtypes: float64(5), int64(5), object(1)\n",
      "memory usage: 50.2+ KB\n"
     ]
    }
   ],
   "source": [
    "liver.info()"
   ]
  },
  {
   "cell_type": "code",
   "execution_count": 299,
   "metadata": {
    "collapsed": false
   },
   "outputs": [
    {
     "data": {
      "text/html": [
       "<div>\n",
       "<table border=\"1\" class=\"dataframe\">\n",
       "  <thead>\n",
       "    <tr style=\"text-align: right;\">\n",
       "      <th></th>\n",
       "      <th>Age</th>\n",
       "      <th>Gender</th>\n",
       "      <th>Total_Bilirubin</th>\n",
       "      <th>Direct_Bilirubin</th>\n",
       "      <th>Alkaline_Phosphotase</th>\n",
       "      <th>Alamine_Aminotransferase</th>\n",
       "      <th>Aspartate_Aminotransferase</th>\n",
       "      <th>Total_Protiens</th>\n",
       "      <th>Albumin</th>\n",
       "      <th>Albumin_and_Globulin_Ratio</th>\n",
       "      <th>Dataset</th>\n",
       "    </tr>\n",
       "  </thead>\n",
       "  <tbody>\n",
       "    <tr>\n",
       "      <th>0</th>\n",
       "      <td>65</td>\n",
       "      <td>Female</td>\n",
       "      <td>0.7</td>\n",
       "      <td>0.1</td>\n",
       "      <td>187</td>\n",
       "      <td>16</td>\n",
       "      <td>18</td>\n",
       "      <td>6.8</td>\n",
       "      <td>3.3</td>\n",
       "      <td>0.90</td>\n",
       "      <td>1</td>\n",
       "    </tr>\n",
       "    <tr>\n",
       "      <th>1</th>\n",
       "      <td>62</td>\n",
       "      <td>Male</td>\n",
       "      <td>10.9</td>\n",
       "      <td>5.5</td>\n",
       "      <td>699</td>\n",
       "      <td>64</td>\n",
       "      <td>100</td>\n",
       "      <td>7.5</td>\n",
       "      <td>3.2</td>\n",
       "      <td>0.74</td>\n",
       "      <td>1</td>\n",
       "    </tr>\n",
       "    <tr>\n",
       "      <th>2</th>\n",
       "      <td>62</td>\n",
       "      <td>Male</td>\n",
       "      <td>7.3</td>\n",
       "      <td>4.1</td>\n",
       "      <td>490</td>\n",
       "      <td>60</td>\n",
       "      <td>68</td>\n",
       "      <td>7.0</td>\n",
       "      <td>3.3</td>\n",
       "      <td>0.89</td>\n",
       "      <td>1</td>\n",
       "    </tr>\n",
       "    <tr>\n",
       "      <th>3</th>\n",
       "      <td>58</td>\n",
       "      <td>Male</td>\n",
       "      <td>1.0</td>\n",
       "      <td>0.4</td>\n",
       "      <td>182</td>\n",
       "      <td>14</td>\n",
       "      <td>20</td>\n",
       "      <td>6.8</td>\n",
       "      <td>3.4</td>\n",
       "      <td>1.00</td>\n",
       "      <td>1</td>\n",
       "    </tr>\n",
       "    <tr>\n",
       "      <th>4</th>\n",
       "      <td>72</td>\n",
       "      <td>Male</td>\n",
       "      <td>3.9</td>\n",
       "      <td>2.0</td>\n",
       "      <td>195</td>\n",
       "      <td>27</td>\n",
       "      <td>59</td>\n",
       "      <td>7.3</td>\n",
       "      <td>2.4</td>\n",
       "      <td>0.40</td>\n",
       "      <td>1</td>\n",
       "    </tr>\n",
       "  </tbody>\n",
       "</table>\n",
       "</div>"
      ],
      "text/plain": [
       "   Age  Gender  Total_Bilirubin  Direct_Bilirubin  Alkaline_Phosphotase  \\\n",
       "0   65  Female              0.7               0.1                   187   \n",
       "1   62    Male             10.9               5.5                   699   \n",
       "2   62    Male              7.3               4.1                   490   \n",
       "3   58    Male              1.0               0.4                   182   \n",
       "4   72    Male              3.9               2.0                   195   \n",
       "\n",
       "   Alamine_Aminotransferase  Aspartate_Aminotransferase  Total_Protiens  \\\n",
       "0                        16                          18             6.8   \n",
       "1                        64                         100             7.5   \n",
       "2                        60                          68             7.0   \n",
       "3                        14                          20             6.8   \n",
       "4                        27                          59             7.3   \n",
       "\n",
       "   Albumin  Albumin_and_Globulin_Ratio  Dataset  \n",
       "0      3.3                        0.90        1  \n",
       "1      3.2                        0.74        1  \n",
       "2      3.3                        0.89        1  \n",
       "3      3.4                        1.00        1  \n",
       "4      2.4                        0.40        1  "
      ]
     },
     "execution_count": 299,
     "metadata": {},
     "output_type": "execute_result"
    }
   ],
   "source": [
    "liver.head()"
   ]
  },
  {
   "cell_type": "markdown",
   "metadata": {},
   "source": [
    "We have all sorts measured here. However, for the benefit of this example, imagine if the only thing we had was 'Total_Bilirubin' and the outcome.\n",
    "\n",
    "Note that I'm going to change the 'Dataset' column name to 'Outcome', in order to be consistent with the analysis above. I'm also going to change the 1s and 2s in this column to 1s and 0s (initial state is that 1 = liver disease, 2 = no liver disease),"
   ]
  },
  {
   "cell_type": "code",
   "execution_count": 300,
   "metadata": {
    "collapsed": false
   },
   "outputs": [],
   "source": [
    "liver.rename(columns = {'Dataset':'Outcome'}, inplace = True)\n",
    "liver['Outcome'].replace(to_replace=2, value=0, inplace=True)"
   ]
  },
  {
   "cell_type": "markdown",
   "metadata": {},
   "source": [
    "Check the summary by outcome,"
   ]
  },
  {
   "cell_type": "code",
   "execution_count": 301,
   "metadata": {
    "collapsed": false
   },
   "outputs": [
    {
     "data": {
      "text/html": [
       "<div>\n",
       "<table border=\"1\" class=\"dataframe\">\n",
       "  <thead>\n",
       "    <tr style=\"text-align: right;\">\n",
       "      <th></th>\n",
       "      <th>Age</th>\n",
       "      <th>Total_Bilirubin</th>\n",
       "      <th>Direct_Bilirubin</th>\n",
       "      <th>Alkaline_Phosphotase</th>\n",
       "      <th>Alamine_Aminotransferase</th>\n",
       "      <th>Aspartate_Aminotransferase</th>\n",
       "      <th>Total_Protiens</th>\n",
       "      <th>Albumin</th>\n",
       "      <th>Albumin_and_Globulin_Ratio</th>\n",
       "    </tr>\n",
       "    <tr>\n",
       "      <th>Outcome</th>\n",
       "      <th></th>\n",
       "      <th></th>\n",
       "      <th></th>\n",
       "      <th></th>\n",
       "      <th></th>\n",
       "      <th></th>\n",
       "      <th></th>\n",
       "      <th></th>\n",
       "      <th></th>\n",
       "    </tr>\n",
       "  </thead>\n",
       "  <tbody>\n",
       "    <tr>\n",
       "      <th>0</th>\n",
       "      <td>41.239521</td>\n",
       "      <td>1.142515</td>\n",
       "      <td>0.396407</td>\n",
       "      <td>219.754491</td>\n",
       "      <td>33.652695</td>\n",
       "      <td>40.688623</td>\n",
       "      <td>6.543114</td>\n",
       "      <td>3.344311</td>\n",
       "      <td>1.029576</td>\n",
       "    </tr>\n",
       "    <tr>\n",
       "      <th>1</th>\n",
       "      <td>46.153846</td>\n",
       "      <td>4.164423</td>\n",
       "      <td>1.923558</td>\n",
       "      <td>319.007212</td>\n",
       "      <td>99.605769</td>\n",
       "      <td>137.699519</td>\n",
       "      <td>6.459135</td>\n",
       "      <td>3.060577</td>\n",
       "      <td>0.914179</td>\n",
       "    </tr>\n",
       "  </tbody>\n",
       "</table>\n",
       "</div>"
      ],
      "text/plain": [
       "               Age  Total_Bilirubin  Direct_Bilirubin  Alkaline_Phosphotase  \\\n",
       "Outcome                                                                       \n",
       "0        41.239521         1.142515          0.396407            219.754491   \n",
       "1        46.153846         4.164423          1.923558            319.007212   \n",
       "\n",
       "         Alamine_Aminotransferase  Aspartate_Aminotransferase  Total_Protiens  \\\n",
       "Outcome                                                                         \n",
       "0                       33.652695                   40.688623        6.543114   \n",
       "1                       99.605769                  137.699519        6.459135   \n",
       "\n",
       "          Albumin  Albumin_and_Globulin_Ratio  \n",
       "Outcome                                        \n",
       "0        3.344311                    1.029576  \n",
       "1        3.060577                    0.914179  "
      ]
     },
     "execution_count": 301,
     "metadata": {},
     "output_type": "execute_result"
    }
   ],
   "source": [
    "liver.groupby('Outcome').mean()"
   ]
  },
  {
   "cell_type": "code",
   "execution_count": 302,
   "metadata": {
    "collapsed": false
   },
   "outputs": [],
   "source": [
    "liver_sub = liver.drop(['Gender'],1)"
   ]
  },
  {
   "cell_type": "code",
   "execution_count": 303,
   "metadata": {
    "collapsed": false,
    "scrolled": true
   },
   "outputs": [
    {
     "data": {
      "text/html": [
       "<div>\n",
       "<table border=\"1\" class=\"dataframe\">\n",
       "  <thead>\n",
       "    <tr style=\"text-align: right;\">\n",
       "      <th></th>\n",
       "      <th>Age</th>\n",
       "      <th>Total_Bilirubin</th>\n",
       "      <th>Direct_Bilirubin</th>\n",
       "      <th>Alkaline_Phosphotase</th>\n",
       "      <th>Alamine_Aminotransferase</th>\n",
       "      <th>Aspartate_Aminotransferase</th>\n",
       "      <th>Total_Protiens</th>\n",
       "      <th>Albumin</th>\n",
       "      <th>Albumin_and_Globulin_Ratio</th>\n",
       "      <th>Outcome</th>\n",
       "    </tr>\n",
       "  </thead>\n",
       "  <tbody>\n",
       "    <tr>\n",
       "      <th>count</th>\n",
       "      <td>583.000000</td>\n",
       "      <td>583.000000</td>\n",
       "      <td>583.000000</td>\n",
       "      <td>583.000000</td>\n",
       "      <td>583.000000</td>\n",
       "      <td>583.000000</td>\n",
       "      <td>583.000000</td>\n",
       "      <td>583.000000</td>\n",
       "      <td>579.000000</td>\n",
       "      <td>583.000000</td>\n",
       "    </tr>\n",
       "    <tr>\n",
       "      <th>mean</th>\n",
       "      <td>44.746141</td>\n",
       "      <td>3.298799</td>\n",
       "      <td>1.486106</td>\n",
       "      <td>290.576329</td>\n",
       "      <td>80.713551</td>\n",
       "      <td>109.910806</td>\n",
       "      <td>6.483190</td>\n",
       "      <td>3.141852</td>\n",
       "      <td>0.947064</td>\n",
       "      <td>0.713551</td>\n",
       "    </tr>\n",
       "    <tr>\n",
       "      <th>std</th>\n",
       "      <td>16.189833</td>\n",
       "      <td>6.209522</td>\n",
       "      <td>2.808498</td>\n",
       "      <td>242.937989</td>\n",
       "      <td>182.620356</td>\n",
       "      <td>288.918529</td>\n",
       "      <td>1.085451</td>\n",
       "      <td>0.795519</td>\n",
       "      <td>0.319592</td>\n",
       "      <td>0.452490</td>\n",
       "    </tr>\n",
       "    <tr>\n",
       "      <th>min</th>\n",
       "      <td>4.000000</td>\n",
       "      <td>0.400000</td>\n",
       "      <td>0.100000</td>\n",
       "      <td>63.000000</td>\n",
       "      <td>10.000000</td>\n",
       "      <td>10.000000</td>\n",
       "      <td>2.700000</td>\n",
       "      <td>0.900000</td>\n",
       "      <td>0.300000</td>\n",
       "      <td>0.000000</td>\n",
       "    </tr>\n",
       "    <tr>\n",
       "      <th>25%</th>\n",
       "      <td>33.000000</td>\n",
       "      <td>0.800000</td>\n",
       "      <td>0.200000</td>\n",
       "      <td>175.500000</td>\n",
       "      <td>23.000000</td>\n",
       "      <td>25.000000</td>\n",
       "      <td>5.800000</td>\n",
       "      <td>2.600000</td>\n",
       "      <td>0.700000</td>\n",
       "      <td>0.000000</td>\n",
       "    </tr>\n",
       "    <tr>\n",
       "      <th>50%</th>\n",
       "      <td>45.000000</td>\n",
       "      <td>1.000000</td>\n",
       "      <td>0.300000</td>\n",
       "      <td>208.000000</td>\n",
       "      <td>35.000000</td>\n",
       "      <td>42.000000</td>\n",
       "      <td>6.600000</td>\n",
       "      <td>3.100000</td>\n",
       "      <td>0.930000</td>\n",
       "      <td>1.000000</td>\n",
       "    </tr>\n",
       "    <tr>\n",
       "      <th>75%</th>\n",
       "      <td>58.000000</td>\n",
       "      <td>2.600000</td>\n",
       "      <td>1.300000</td>\n",
       "      <td>298.000000</td>\n",
       "      <td>60.500000</td>\n",
       "      <td>87.000000</td>\n",
       "      <td>7.200000</td>\n",
       "      <td>3.800000</td>\n",
       "      <td>1.100000</td>\n",
       "      <td>1.000000</td>\n",
       "    </tr>\n",
       "    <tr>\n",
       "      <th>max</th>\n",
       "      <td>90.000000</td>\n",
       "      <td>75.000000</td>\n",
       "      <td>19.700000</td>\n",
       "      <td>2110.000000</td>\n",
       "      <td>2000.000000</td>\n",
       "      <td>4929.000000</td>\n",
       "      <td>9.600000</td>\n",
       "      <td>5.500000</td>\n",
       "      <td>2.800000</td>\n",
       "      <td>1.000000</td>\n",
       "    </tr>\n",
       "  </tbody>\n",
       "</table>\n",
       "</div>"
      ],
      "text/plain": [
       "              Age  Total_Bilirubin  Direct_Bilirubin  Alkaline_Phosphotase  \\\n",
       "count  583.000000       583.000000        583.000000            583.000000   \n",
       "mean    44.746141         3.298799          1.486106            290.576329   \n",
       "std     16.189833         6.209522          2.808498            242.937989   \n",
       "min      4.000000         0.400000          0.100000             63.000000   \n",
       "25%     33.000000         0.800000          0.200000            175.500000   \n",
       "50%     45.000000         1.000000          0.300000            208.000000   \n",
       "75%     58.000000         2.600000          1.300000            298.000000   \n",
       "max     90.000000        75.000000         19.700000           2110.000000   \n",
       "\n",
       "       Alamine_Aminotransferase  Aspartate_Aminotransferase  Total_Protiens  \\\n",
       "count                583.000000                  583.000000      583.000000   \n",
       "mean                  80.713551                  109.910806        6.483190   \n",
       "std                  182.620356                  288.918529        1.085451   \n",
       "min                   10.000000                   10.000000        2.700000   \n",
       "25%                   23.000000                   25.000000        5.800000   \n",
       "50%                   35.000000                   42.000000        6.600000   \n",
       "75%                   60.500000                   87.000000        7.200000   \n",
       "max                 2000.000000                 4929.000000        9.600000   \n",
       "\n",
       "          Albumin  Albumin_and_Globulin_Ratio     Outcome  \n",
       "count  583.000000                  579.000000  583.000000  \n",
       "mean     3.141852                    0.947064    0.713551  \n",
       "std      0.795519                    0.319592    0.452490  \n",
       "min      0.900000                    0.300000    0.000000  \n",
       "25%      2.600000                    0.700000    0.000000  \n",
       "50%      3.100000                    0.930000    1.000000  \n",
       "75%      3.800000                    1.100000    1.000000  \n",
       "max      5.500000                    2.800000    1.000000  "
      ]
     },
     "execution_count": 303,
     "metadata": {},
     "output_type": "execute_result"
    }
   ],
   "source": [
    "liver.describe()"
   ]
  },
  {
   "cell_type": "markdown",
   "metadata": {},
   "source": [
    "Let's just grab the two columns we're interested in,"
   ]
  },
  {
   "cell_type": "code",
   "execution_count": 304,
   "metadata": {
    "collapsed": false
   },
   "outputs": [],
   "source": [
    "liver_sub = liver.iloc[:,(2,10)]"
   ]
  },
  {
   "cell_type": "markdown",
   "metadata": {},
   "source": [
    "Let's sanity-check whether or not we think there is any discriminatory power in this marker with a box-plot,"
   ]
  },
  {
   "cell_type": "code",
   "execution_count": 305,
   "metadata": {
    "collapsed": false
   },
   "outputs": [
    {
     "data": {
      "text/plain": [
       "<matplotlib.axes._subplots.AxesSubplot at 0x232a0baaf98>"
      ]
     },
     "execution_count": 305,
     "metadata": {},
     "output_type": "execute_result"
    },
    {
     "data": {
      "image/png": "[encoded data removed]",
      "text/plain": [
       "<matplotlib.figure.Figure at 0x2329eefdcf8>"
      ]
     },
     "metadata": {},
     "output_type": "display_data"
    }
   ],
   "source": [
    "sns.boxplot(x='Outcome', y='Total_Bilirubin', data=liver_sub, palette='hls')"
   ]
  },
  {
   "cell_type": "markdown",
   "metadata": {},
   "source": [
    "It looks like Total Bilirubin is raised in liver condition cases, especially in the case of outliers. Let's also check without the outliers,"
   ]
  },
  {
   "cell_type": "code",
   "execution_count": 306,
   "metadata": {
    "collapsed": false
   },
   "outputs": [
    {
     "data": {
      "text/plain": [
       "<matplotlib.axes._subplots.AxesSubplot at 0x232a0c8dcc0>"
      ]
     },
     "execution_count": 306,
     "metadata": {},
     "output_type": "execute_result"
    },
    {
     "data": {
      "image/png": "[encoded data removed]",
      "text/plain": [
       "<matplotlib.figure.Figure at 0x2329d6460b8>"
      ]
     },
     "metadata": {},
     "output_type": "display_data"
    }
   ],
   "source": [
    "sns.boxplot(x='Outcome', y='Total_Bilirubin', data=liver_sub, palette='hls', showfliers=False)"
   ]
  },
  {
   "cell_type": "markdown",
   "metadata": {},
   "source": [
    "We could also check things with a histogram,"
   ]
  },
  {
   "cell_type": "code",
   "execution_count": 307,
   "metadata": {
    "collapsed": false
   },
   "outputs": [
    {
     "data": {
      "image/png": "[encoded data removed]",
      "text/plain": [
       "<matplotlib.figure.Figure at 0x232a08dd6a0>"
      ]
     },
     "metadata": {},
     "output_type": "display_data"
    }
   ],
   "source": [
    "bins = np.linspace(0, 80, 100)\n",
    "\n",
    "plt.hist(liver_sub['Total_Bilirubin'][liver_sub['Outcome'] == 0], bins, label='No disease',fc=(0, 0, 1, 1))\n",
    "plt.hist(liver_sub['Total_Bilirubin'][liver_sub['Outcome'] == 1], bins, label='Disease',fc=(1, 0, 0, 0.4))\n",
    "plt.legend(loc='upper right')\n",
    "plt.show()"
   ]
  },
  {
   "cell_type": "markdown",
   "metadata": {},
   "source": [
    "OK, there is definitely some difference here. This makes physiological sense, as bilirubin is known to be a by-product of the breakdown of red blood cells, which should be efficiently dealt with by the liver. So raised levels can indicate that the liver is not functioning correctly$^{[4]}$. That said, there is overlap, so we won't be surprised if the separation of the two groups with some cut-off value and the consequent sensitivity and specificity are fairly poor.\n",
    "\n",
    "Let's keep going with this marker. Let's create a ROC plot from scratch. The following code evaluates the sensitivity and specificity at 100 different thresholds across the range of the Total_Bilirubin, then plots the results,"
   ]
  },
  {
   "cell_type": "code",
   "execution_count": 308,
   "metadata": {
    "collapsed": false
   },
   "outputs": [],
   "source": [
    "tb = liver_sub['Total_Bilirubin']\n",
    "pred = np.zeros(tb.size)\n",
    "tb_min = np.min(tb)\n",
    "tb_max = np.max(tb)\n",
    "tb_range = tb_max - tb_min\n",
    "thresh_inc_size = 100\n",
    "tb_inc = tb_range / thresh_inc_size\n",
    "no_thresholds = tb_range / tb_inc.size\n",
    "no_thresholds = np.ceil(no_thresholds)\n",
    "no_thresholds = no_thresholds.astype(int)\n",
    "sens = pd.Series(np.zeros(no_thresholds))\n",
    "spec = pd.Series(np.zeros(no_thresholds))\n",
    "\n",
    "tb_cutoff = tb_min\n",
    "i=0\n",
    "y=0"
   ]
  },
  {
   "cell_type": "code",
   "execution_count": 309,
   "metadata": {
    "collapsed": false
   },
   "outputs": [],
   "source": [
    "while (y <= thresh_inc_size):\n",
    "    while (i<tb.size):\n",
    "        if (tb[i] >= tb_cutoff):\n",
    "            pred[i] = 1\n",
    "        else:\n",
    "            pred[i] = 0\n",
    "        i=i+1\n",
    "    confusion_matrix = metrics.confusion_matrix(liver_sub['Outcome'], pred)\n",
    "    sens[y] = confusion_matrix[0,0]/(confusion_matrix[0,0]+confusion_matrix[0,1])\n",
    "    spec[y] = confusion_matrix[1,1]/(confusion_matrix[1,0]+confusion_matrix[1,1])\n",
    "    i=0    \n",
    "    y=y+1\n",
    "    tb_cutoff = tb_cutoff + tb_inc"
   ]
  },
  {
   "cell_type": "code",
   "execution_count": 310,
   "metadata": {
    "collapsed": false
   },
   "outputs": [
    {
     "data": {
      "text/plain": [
       "<matplotlib.text.Text at 0x232a1007dd8>"
      ]
     },
     "execution_count": 310,
     "metadata": {},
     "output_type": "execute_result"
    },
    {
     "data": {
      "image/png": "[encoded data removed]",
      "text/plain": [
       "<matplotlib.figure.Figure at 0x232a0de59e8>"
      ]
     },
     "metadata": {},
     "output_type": "display_data"
    }
   ],
   "source": [
    "fig, ax = plt.subplots()\n",
    "ax.plot(1-spec, sens)\n",
    "ax.plot([0, 1], [0, 1], transform=ax.transAxes, ls=\"--\", c=\".3\")\n",
    "plt.xlim([0.0, 1.0])\n",
    "plt.ylim([0.0, 1.0])\n",
    "plt.rcParams['font.size'] = 12\n",
    "plt.title('ROC curve for liver disease classifier')\n",
    "plt.xlabel('False Positive Rate (1 - Specificity)')\n",
    "plt.ylabel('True Positive Rate (Sensitivity)')"
   ]
  },
  {
   "cell_type": "markdown",
   "metadata": {},
   "source": [
    "So, this ROC plot has *not* been generated by varying the probability between 0 and 1 like machine-learning applications. Now, the threshold that is being varied is the blood marker value, between the minimum and maximum values.\n",
    "\n",
    "There are various ways to pick the most suitable cut-off point. Some use the Youden index$^{[5]}$\n",
    ", which is a way to balance sensitivity and specificity by selecting the point on the ROC plot that maximizes the difference between sensitivity 1-specificity. However, one thing to keep in mind here is that a false positive may not perfectly equal a false negative in terms of cost. For example, in medical testing, a false positive may lead to the administration of drugs that aren't needed, resulting in side-effects and financial costs, but a false negative could lead to death. Arguably not the same!\n",
    "\n",
    "Alternatively, a high sensitivity may be selected (at the expense of specificity) for a rule-out test, or a high specificity may be selected (at the expense of sensitivity) for a rule-in test.\n",
    "\n",
    "From the plot above, you can see that at a moderate sensitivity of 0.8, you're getting a poor specificity of ~0.5. Better than a coin-toss (the dotted line), but not amazing.\n",
    "\n",
    "There are a number of good papers on using ROC plots with diagnostic tests$^{[6-8]}$\n",
    "\n",
    "Next, let's take a look at a different Kaggle dataset,"
   ]
  },
  {
   "cell_type": "markdown",
   "metadata": {},
   "source": [
    "#### Breast Cancer Wisconsin (Diagnostic) Data Set"
   ]
  },
  {
   "cell_type": "code",
   "execution_count": 311,
   "metadata": {
    "collapsed": true
   },
   "outputs": [],
   "source": [
    "bcancer = pd.read_csv(path + 'breast-cancer-wisconsin-data\\\\data.csv')"
   ]
  },
  {
   "cell_type": "code",
   "execution_count": 312,
   "metadata": {
    "collapsed": false
   },
   "outputs": [
    {
     "name": "stdout",
     "output_type": "stream",
     "text": [
      "<class 'pandas.core.frame.DataFrame'>\n",
      "RangeIndex: 569 entries, 0 to 568\n",
      "Data columns (total 33 columns):\n",
      "id                         569 non-null int64\n",
      "diagnosis                  569 non-null object\n",
      "radius_mean                569 non-null float64\n",
      "texture_mean               569 non-null float64\n",
      "perimeter_mean             569 non-null float64\n",
      "area_mean                  569 non-null float64\n",
      "smoothness_mean            569 non-null float64\n",
      "compactness_mean           569 non-null float64\n",
      "concavity_mean             569 non-null float64\n",
      "concave points_mean        569 non-null float64\n",
      "symmetry_mean              569 non-null float64\n",
      "fractal_dimension_mean     569 non-null float64\n",
      "radius_se                  569 non-null float64\n",
      "texture_se                 569 non-null float64\n",
      "perimeter_se               569 non-null float64\n",
      "area_se                    569 non-null float64\n",
      "smoothness_se              569 non-null float64\n",
      "compactness_se             569 non-null float64\n",
      "concavity_se               569 non-null float64\n",
      "concave points_se          569 non-null float64\n",
      "symmetry_se                569 non-null float64\n",
      "fractal_dimension_se       569 non-null float64\n",
      "radius_worst               569 non-null float64\n",
      "texture_worst              569 non-null float64\n",
      "perimeter_worst            569 non-null float64\n",
      "area_worst                 569 non-null float64\n",
      "smoothness_worst           569 non-null float64\n",
      "compactness_worst          569 non-null float64\n",
      "concavity_worst            569 non-null float64\n",
      "concave points_worst       569 non-null float64\n",
      "symmetry_worst             569 non-null float64\n",
      "fractal_dimension_worst    569 non-null float64\n",
      "Unnamed: 32                0 non-null float64\n",
      "dtypes: float64(31), int64(1), object(1)\n",
      "memory usage: 146.8+ KB\n"
     ]
    }
   ],
   "source": [
    "bcancer.info()"
   ]
  },
  {
   "cell_type": "markdown",
   "metadata": {},
   "source": [
    "Lots of variables here. Let's see some data,"
   ]
  },
  {
   "cell_type": "code",
   "execution_count": 313,
   "metadata": {
    "collapsed": false
   },
   "outputs": [
    {
     "data": {
      "text/html": [
       "<div>\n",
       "<table border=\"1\" class=\"dataframe\">\n",
       "  <thead>\n",
       "    <tr style=\"text-align: right;\">\n",
       "      <th></th>\n",
       "      <th>id</th>\n",
       "      <th>diagnosis</th>\n",
       "      <th>radius_mean</th>\n",
       "      <th>texture_mean</th>\n",
       "      <th>perimeter_mean</th>\n",
       "      <th>area_mean</th>\n",
       "      <th>smoothness_mean</th>\n",
       "      <th>compactness_mean</th>\n",
       "      <th>concavity_mean</th>\n",
       "      <th>concave points_mean</th>\n",
       "      <th>...</th>\n",
       "      <th>texture_worst</th>\n",
       "      <th>perimeter_worst</th>\n",
       "      <th>area_worst</th>\n",
       "      <th>smoothness_worst</th>\n",
       "      <th>compactness_worst</th>\n",
       "      <th>concavity_worst</th>\n",
       "      <th>concave points_worst</th>\n",
       "      <th>symmetry_worst</th>\n",
       "      <th>fractal_dimension_worst</th>\n",
       "      <th>Unnamed: 32</th>\n",
       "    </tr>\n",
       "  </thead>\n",
       "  <tbody>\n",
       "    <tr>\n",
       "      <th>0</th>\n",
       "      <td>842302</td>\n",
       "      <td>M</td>\n",
       "      <td>17.99</td>\n",
       "      <td>10.38</td>\n",
       "      <td>122.80</td>\n",
       "      <td>1001.0</td>\n",
       "      <td>0.11840</td>\n",
       "      <td>0.27760</td>\n",
       "      <td>0.3001</td>\n",
       "      <td>0.14710</td>\n",
       "      <td>...</td>\n",
       "      <td>17.33</td>\n",
       "      <td>184.60</td>\n",
       "      <td>2019.0</td>\n",
       "      <td>0.1622</td>\n",
       "      <td>0.6656</td>\n",
       "      <td>0.7119</td>\n",
       "      <td>0.2654</td>\n",
       "      <td>0.4601</td>\n",
       "      <td>0.11890</td>\n",
       "      <td>NaN</td>\n",
       "    </tr>\n",
       "    <tr>\n",
       "      <th>1</th>\n",
       "      <td>842517</td>\n",
       "      <td>M</td>\n",
       "      <td>20.57</td>\n",
       "      <td>17.77</td>\n",
       "      <td>132.90</td>\n",
       "      <td>1326.0</td>\n",
       "      <td>0.08474</td>\n",
       "      <td>0.07864</td>\n",
       "      <td>0.0869</td>\n",
       "      <td>0.07017</td>\n",
       "      <td>...</td>\n",
       "      <td>23.41</td>\n",
       "      <td>158.80</td>\n",
       "      <td>1956.0</td>\n",
       "      <td>0.1238</td>\n",
       "      <td>0.1866</td>\n",
       "      <td>0.2416</td>\n",
       "      <td>0.1860</td>\n",
       "      <td>0.2750</td>\n",
       "      <td>0.08902</td>\n",
       "      <td>NaN</td>\n",
       "    </tr>\n",
       "    <tr>\n",
       "      <th>2</th>\n",
       "      <td>84300903</td>\n",
       "      <td>M</td>\n",
       "      <td>19.69</td>\n",
       "      <td>21.25</td>\n",
       "      <td>130.00</td>\n",
       "      <td>1203.0</td>\n",
       "      <td>0.10960</td>\n",
       "      <td>0.15990</td>\n",
       "      <td>0.1974</td>\n",
       "      <td>0.12790</td>\n",
       "      <td>...</td>\n",
       "      <td>25.53</td>\n",
       "      <td>152.50</td>\n",
       "      <td>1709.0</td>\n",
       "      <td>0.1444</td>\n",
       "      <td>0.4245</td>\n",
       "      <td>0.4504</td>\n",
       "      <td>0.2430</td>\n",
       "      <td>0.3613</td>\n",
       "      <td>0.08758</td>\n",
       "      <td>NaN</td>\n",
       "    </tr>\n",
       "    <tr>\n",
       "      <th>3</th>\n",
       "      <td>84348301</td>\n",
       "      <td>M</td>\n",
       "      <td>11.42</td>\n",
       "      <td>20.38</td>\n",
       "      <td>77.58</td>\n",
       "      <td>386.1</td>\n",
       "      <td>0.14250</td>\n",
       "      <td>0.28390</td>\n",
       "      <td>0.2414</td>\n",
       "      <td>0.10520</td>\n",
       "      <td>...</td>\n",
       "      <td>26.50</td>\n",
       "      <td>98.87</td>\n",
       "      <td>567.7</td>\n",
       "      <td>0.2098</td>\n",
       "      <td>0.8663</td>\n",
       "      <td>0.6869</td>\n",
       "      <td>0.2575</td>\n",
       "      <td>0.6638</td>\n",
       "      <td>0.17300</td>\n",
       "      <td>NaN</td>\n",
       "    </tr>\n",
       "    <tr>\n",
       "      <th>4</th>\n",
       "      <td>84358402</td>\n",
       "      <td>M</td>\n",
       "      <td>20.29</td>\n",
       "      <td>14.34</td>\n",
       "      <td>135.10</td>\n",
       "      <td>1297.0</td>\n",
       "      <td>0.10030</td>\n",
       "      <td>0.13280</td>\n",
       "      <td>0.1980</td>\n",
       "      <td>0.10430</td>\n",
       "      <td>...</td>\n",
       "      <td>16.67</td>\n",
       "      <td>152.20</td>\n",
       "      <td>1575.0</td>\n",
       "      <td>0.1374</td>\n",
       "      <td>0.2050</td>\n",
       "      <td>0.4000</td>\n",
       "      <td>0.1625</td>\n",
       "      <td>0.2364</td>\n",
       "      <td>0.07678</td>\n",
       "      <td>NaN</td>\n",
       "    </tr>\n",
       "  </tbody>\n",
       "</table>\n",
       "<p>5 rows × 33 columns</p>\n",
       "</div>"
      ],
      "text/plain": [
       "         id diagnosis  radius_mean  texture_mean  perimeter_mean  area_mean  \\\n",
       "0    842302         M        17.99         10.38          122.80     1001.0   \n",
       "1    842517         M        20.57         17.77          132.90     1326.0   \n",
       "2  84300903         M        19.69         21.25          130.00     1203.0   \n",
       "3  84348301         M        11.42         20.38           77.58      386.1   \n",
       "4  84358402         M        20.29         14.34          135.10     1297.0   \n",
       "\n",
       "   smoothness_mean  compactness_mean  concavity_mean  concave points_mean  \\\n",
       "0          0.11840           0.27760          0.3001              0.14710   \n",
       "1          0.08474           0.07864          0.0869              0.07017   \n",
       "2          0.10960           0.15990          0.1974              0.12790   \n",
       "3          0.14250           0.28390          0.2414              0.10520   \n",
       "4          0.10030           0.13280          0.1980              0.10430   \n",
       "\n",
       "      ...       texture_worst  perimeter_worst  area_worst  smoothness_worst  \\\n",
       "0     ...               17.33           184.60      2019.0            0.1622   \n",
       "1     ...               23.41           158.80      1956.0            0.1238   \n",
       "2     ...               25.53           152.50      1709.0            0.1444   \n",
       "3     ...               26.50            98.87       567.7            0.2098   \n",
       "4     ...               16.67           152.20      1575.0            0.1374   \n",
       "\n",
       "   compactness_worst  concavity_worst  concave points_worst  symmetry_worst  \\\n",
       "0             0.6656           0.7119                0.2654          0.4601   \n",
       "1             0.1866           0.2416                0.1860          0.2750   \n",
       "2             0.4245           0.4504                0.2430          0.3613   \n",
       "3             0.8663           0.6869                0.2575          0.6638   \n",
       "4             0.2050           0.4000                0.1625          0.2364   \n",
       "\n",
       "   fractal_dimension_worst  Unnamed: 32  \n",
       "0                  0.11890          NaN  \n",
       "1                  0.08902          NaN  \n",
       "2                  0.08758          NaN  \n",
       "3                  0.17300          NaN  \n",
       "4                  0.07678          NaN  \n",
       "\n",
       "[5 rows x 33 columns]"
      ]
     },
     "execution_count": 313,
     "metadata": {},
     "output_type": "execute_result"
    }
   ],
   "source": [
    "bcancer.head()"
   ]
  },
  {
   "cell_type": "markdown",
   "metadata": {},
   "source": [
    "And a look at the different features by the two classes (benign and malignant),"
   ]
  },
  {
   "cell_type": "code",
   "execution_count": 314,
   "metadata": {
    "collapsed": false
   },
   "outputs": [
    {
     "data": {
      "text/html": [
       "<div>\n",
       "<table border=\"1\" class=\"dataframe\">\n",
       "  <thead>\n",
       "    <tr style=\"text-align: right;\">\n",
       "      <th></th>\n",
       "      <th>id</th>\n",
       "      <th>radius_mean</th>\n",
       "      <th>texture_mean</th>\n",
       "      <th>perimeter_mean</th>\n",
       "      <th>area_mean</th>\n",
       "      <th>smoothness_mean</th>\n",
       "      <th>compactness_mean</th>\n",
       "      <th>concavity_mean</th>\n",
       "      <th>concave points_mean</th>\n",
       "      <th>symmetry_mean</th>\n",
       "      <th>...</th>\n",
       "      <th>texture_worst</th>\n",
       "      <th>perimeter_worst</th>\n",
       "      <th>area_worst</th>\n",
       "      <th>smoothness_worst</th>\n",
       "      <th>compactness_worst</th>\n",
       "      <th>concavity_worst</th>\n",
       "      <th>concave points_worst</th>\n",
       "      <th>symmetry_worst</th>\n",
       "      <th>fractal_dimension_worst</th>\n",
       "      <th>Unnamed: 32</th>\n",
       "    </tr>\n",
       "    <tr>\n",
       "      <th>diagnosis</th>\n",
       "      <th></th>\n",
       "      <th></th>\n",
       "      <th></th>\n",
       "      <th></th>\n",
       "      <th></th>\n",
       "      <th></th>\n",
       "      <th></th>\n",
       "      <th></th>\n",
       "      <th></th>\n",
       "      <th></th>\n",
       "      <th></th>\n",
       "      <th></th>\n",
       "      <th></th>\n",
       "      <th></th>\n",
       "      <th></th>\n",
       "      <th></th>\n",
       "      <th></th>\n",
       "      <th></th>\n",
       "      <th></th>\n",
       "      <th></th>\n",
       "      <th></th>\n",
       "    </tr>\n",
       "  </thead>\n",
       "  <tbody>\n",
       "    <tr>\n",
       "      <th>B</th>\n",
       "      <td>26543824</td>\n",
       "      <td>12.146524</td>\n",
       "      <td>17.914762</td>\n",
       "      <td>78.075406</td>\n",
       "      <td>462.790196</td>\n",
       "      <td>0.092478</td>\n",
       "      <td>0.080085</td>\n",
       "      <td>0.046058</td>\n",
       "      <td>0.025717</td>\n",
       "      <td>0.174186</td>\n",
       "      <td>...</td>\n",
       "      <td>23.515070</td>\n",
       "      <td>87.005938</td>\n",
       "      <td>558.899440</td>\n",
       "      <td>0.124959</td>\n",
       "      <td>0.182673</td>\n",
       "      <td>0.166238</td>\n",
       "      <td>0.074444</td>\n",
       "      <td>0.270246</td>\n",
       "      <td>0.079442</td>\n",
       "      <td>NaN</td>\n",
       "    </tr>\n",
       "    <tr>\n",
       "      <th>M</th>\n",
       "      <td>36818050</td>\n",
       "      <td>17.462830</td>\n",
       "      <td>21.604906</td>\n",
       "      <td>115.365377</td>\n",
       "      <td>978.376415</td>\n",
       "      <td>0.102898</td>\n",
       "      <td>0.145188</td>\n",
       "      <td>0.160775</td>\n",
       "      <td>0.087990</td>\n",
       "      <td>0.192909</td>\n",
       "      <td>...</td>\n",
       "      <td>29.318208</td>\n",
       "      <td>141.370330</td>\n",
       "      <td>1422.286321</td>\n",
       "      <td>0.144845</td>\n",
       "      <td>0.374824</td>\n",
       "      <td>0.450606</td>\n",
       "      <td>0.182237</td>\n",
       "      <td>0.323468</td>\n",
       "      <td>0.091530</td>\n",
       "      <td>NaN</td>\n",
       "    </tr>\n",
       "  </tbody>\n",
       "</table>\n",
       "<p>2 rows × 32 columns</p>\n",
       "</div>"
      ],
      "text/plain": [
       "                 id  radius_mean  texture_mean  perimeter_mean   area_mean  \\\n",
       "diagnosis                                                                    \n",
       "B          26543824    12.146524     17.914762       78.075406  462.790196   \n",
       "M          36818050    17.462830     21.604906      115.365377  978.376415   \n",
       "\n",
       "           smoothness_mean  compactness_mean  concavity_mean  \\\n",
       "diagnosis                                                      \n",
       "B                 0.092478          0.080085        0.046058   \n",
       "M                 0.102898          0.145188        0.160775   \n",
       "\n",
       "           concave points_mean  symmetry_mean     ...       texture_worst  \\\n",
       "diagnosis                                         ...                       \n",
       "B                     0.025717       0.174186     ...           23.515070   \n",
       "M                     0.087990       0.192909     ...           29.318208   \n",
       "\n",
       "           perimeter_worst   area_worst  smoothness_worst  compactness_worst  \\\n",
       "diagnosis                                                                      \n",
       "B                87.005938   558.899440          0.124959           0.182673   \n",
       "M               141.370330  1422.286321          0.144845           0.374824   \n",
       "\n",
       "           concavity_worst  concave points_worst  symmetry_worst  \\\n",
       "diagnosis                                                          \n",
       "B                 0.166238              0.074444        0.270246   \n",
       "M                 0.450606              0.182237        0.323468   \n",
       "\n",
       "           fractal_dimension_worst  Unnamed: 32  \n",
       "diagnosis                                        \n",
       "B                         0.079442          NaN  \n",
       "M                         0.091530          NaN  \n",
       "\n",
       "[2 rows x 32 columns]"
      ]
     },
     "execution_count": 314,
     "metadata": {},
     "output_type": "execute_result"
    }
   ],
   "source": [
    "bcancer.groupby('diagnosis').mean()"
   ]
  },
  {
   "cell_type": "markdown",
   "metadata": {},
   "source": [
    "It looks like there are some differences here. Let's grab a few and create a model and a ROC plot. Again, I'm trying to revolutionise cancer diagnostics, but it would be good to get a new example for some of the bits that follow,"
   ]
  },
  {
   "cell_type": "code",
   "execution_count": 315,
   "metadata": {
    "collapsed": false
   },
   "outputs": [],
   "source": [
    "bcancer_sub = bcancer.iloc[:,(1,5, 8)]"
   ]
  },
  {
   "cell_type": "code",
   "execution_count": 316,
   "metadata": {
    "collapsed": false
   },
   "outputs": [
    {
     "data": {
      "text/html": [
       "<div>\n",
       "<table border=\"1\" class=\"dataframe\">\n",
       "  <thead>\n",
       "    <tr style=\"text-align: right;\">\n",
       "      <th></th>\n",
       "      <th>diagnosis</th>\n",
       "      <th>area_mean</th>\n",
       "      <th>concavity_mean</th>\n",
       "    </tr>\n",
       "  </thead>\n",
       "  <tbody>\n",
       "    <tr>\n",
       "      <th>0</th>\n",
       "      <td>M</td>\n",
       "      <td>1001.0</td>\n",
       "      <td>0.3001</td>\n",
       "    </tr>\n",
       "    <tr>\n",
       "      <th>1</th>\n",
       "      <td>M</td>\n",
       "      <td>1326.0</td>\n",
       "      <td>0.0869</td>\n",
       "    </tr>\n",
       "    <tr>\n",
       "      <th>2</th>\n",
       "      <td>M</td>\n",
       "      <td>1203.0</td>\n",
       "      <td>0.1974</td>\n",
       "    </tr>\n",
       "    <tr>\n",
       "      <th>3</th>\n",
       "      <td>M</td>\n",
       "      <td>386.1</td>\n",
       "      <td>0.2414</td>\n",
       "    </tr>\n",
       "    <tr>\n",
       "      <th>4</th>\n",
       "      <td>M</td>\n",
       "      <td>1297.0</td>\n",
       "      <td>0.1980</td>\n",
       "    </tr>\n",
       "  </tbody>\n",
       "</table>\n",
       "</div>"
      ],
      "text/plain": [
       "  diagnosis  area_mean  concavity_mean\n",
       "0         M     1001.0          0.3001\n",
       "1         M     1326.0          0.0869\n",
       "2         M     1203.0          0.1974\n",
       "3         M      386.1          0.2414\n",
       "4         M     1297.0          0.1980"
      ]
     },
     "execution_count": 316,
     "metadata": {},
     "output_type": "execute_result"
    }
   ],
   "source": [
    "bcancer_sub.head()"
   ]
  },
  {
   "cell_type": "code",
   "execution_count": 317,
   "metadata": {
    "collapsed": false
   },
   "outputs": [],
   "source": [
    "X_train, X_test, y_train, y_test = train_test_split(bcancer_sub.drop('diagnosis', 1), bcancer_sub['diagnosis'], test_size = .3, random_state=25)"
   ]
  },
  {
   "cell_type": "code",
   "execution_count": 318,
   "metadata": {
    "collapsed": false
   },
   "outputs": [],
   "source": [
    "from sklearn.ensemble import RandomForestClassifier"
   ]
  },
  {
   "cell_type": "code",
   "execution_count": 319,
   "metadata": {
    "collapsed": false
   },
   "outputs": [
    {
     "data": {
      "text/plain": [
       "DecisionTreeClassifier(class_weight=None, criterion='gini', max_depth=3,\n",
       "            max_features=None, max_leaf_nodes=None,\n",
       "            min_impurity_split=1e-07, min_samples_leaf=3,\n",
       "            min_samples_split=2, min_weight_fraction_leaf=0.0,\n",
       "            presort=False, random_state=10, splitter='best')"
      ]
     },
     "execution_count": 319,
     "metadata": {},
     "output_type": "execute_result"
    }
   ],
   "source": [
    "from sklearn.tree import DecisionTreeClassifier\n",
    "\n",
    "dtree = DecisionTreeClassifier(criterion = \"gini\", random_state = 10, max_depth=3, min_samples_leaf=3)\n",
    "dtree.fit(X_train, y_train)"
   ]
  },
  {
   "cell_type": "code",
   "execution_count": 320,
   "metadata": {
    "collapsed": false
   },
   "outputs": [
    {
     "data": {
      "text/plain": [
       "array([[99, 14],\n",
       "       [ 4, 54]])"
      ]
     },
     "execution_count": 320,
     "metadata": {},
     "output_type": "execute_result"
    }
   ],
   "source": [
    "y_pred_quant = dtree.predict_proba(X_test)[:, 1] #Only keep the first column, which is the 'pos' values\n",
    "y_pred_bin = dtree.predict(X_test)\n",
    "\n",
    "confusion_matrix = metrics.confusion_matrix(y_test, y_pred_bin)\n",
    "confusion_matrix"
   ]
  },
  {
   "cell_type": "code",
   "execution_count": 321,
   "metadata": {
    "collapsed": false
   },
   "outputs": [
    {
     "name": "stdout",
     "output_type": "stream",
     "text": [
      "Sensitivity :  0.87610619469\n",
      "Specificity :  0.931034482759\n"
     ]
    },
    {
     "data": {
      "image/png": "[encoded data removed]",
      "text/plain": [
       "<matplotlib.figure.Figure at 0x232a0f3fc18>"
      ]
     },
     "metadata": {},
     "output_type": "display_data"
    }
   ],
   "source": [
    "total=sum(sum(confusion_matrix))\n",
    "\n",
    "sensitivity = confusion_matrix[0,0]/(confusion_matrix[0,0]+confusion_matrix[0,1])\n",
    "print('Sensitivity : ', sensitivity )\n",
    "\n",
    "specificity = confusion_matrix[1,1]/(confusion_matrix[1,0]+confusion_matrix[1,1])\n",
    "print('Specificity : ', specificity)\n",
    "\n",
    "fpr, tpr, thresholds = metrics.roc_curve(y_test, y_pred_quant, pos_label='M')\n",
    "\n",
    "plt.plot(fpr, tpr)\n",
    "plt.xlim([0.0, 1.0])\n",
    "plt.ylim([0.0, 1.0])\n",
    "plt.rcParams['font.size'] = 12\n",
    "plt.title('ROC curve for diabetes classifier')\n",
    "plt.xlabel('False Positive Rate (1 - Specificity)')\n",
    "plt.ylabel('True Positive Rate (Sensitivity)')\n",
    "plt.grid(True)\n",
    "#plt.axhline(y=sensitivity, color='r')\n",
    "#plt.axvline(x=1-specificity, color='r')"
   ]
  },
  {
   "cell_type": "markdown",
   "metadata": {},
   "source": [
    "Let's check the AUC,"
   ]
  },
  {
   "cell_type": "code",
   "execution_count": 322,
   "metadata": {
    "collapsed": false
   },
   "outputs": [
    {
     "data": {
      "text/plain": [
       "0.95102227647238335"
      ]
     },
     "execution_count": 322,
     "metadata": {},
     "output_type": "execute_result"
    }
   ],
   "source": [
    "metrics.auc(fpr, tpr)"
   ]
  },
  {
   "cell_type": "markdown",
   "metadata": {},
   "source": [
    "Not bad."
   ]
  },
  {
   "cell_type": "markdown",
   "metadata": {},
   "source": [
    "<a id='So, test development is over?'></a>\n",
    "### So, Test development is over?"
   ]
  },
  {
   "cell_type": "markdown",
   "metadata": {},
   "source": [
    "***\"Either do not attempt at all, or go through with it\"*** - Ovid"
   ]
  },
  {
   "cell_type": "markdown",
   "metadata": {},
   "source": [
    "In my experience, this is about as far as many diagnostic tests get. Some don't even go as far as creating a ROC plot, some are only based on a single predictor variable, and some only quote sensitivity *or* specificity. Leaving those concerns aside, the situation that this leaves is that there is a fixation on these two numbers, and it has effectively led to a battle within the literature of *\"my sens and spec is better than your sens and spec\"*. \n",
    "\n",
    "In reality, a number of fundamental problems exist with this approach. These include,\n",
    "\n",
    "1. Sensitivity and specificity are measurements of how the test performed on a past cohort. They are, therefore, general measurements of the test performance against a sample, and not specific for the individual patient in question\n",
    "2. These metrics are only useful if the chosen test patients are relevant to the test. A common failing here is to include healthy patients when the test is only ever to be used on diseased individuals$^{[9, 10]}$\n",
    "3. These metrics are only useful if the patient in question is from a population that matches that that the test was developed upon (in terms of both disease type and disease prevalence)$^{[9, 10]}$\n",
    "4. Sensitivity and specificity can be altered based upon the threshold used. The full range of possible options should be given in the form of a Receiver operating characteristic (ROC) curve, but often it is not, focussing instead on a single, often arbitrary point$^{[11]}$\n",
    "5. Confidence intervals are rarely focussed upon\n",
    "6. Ruling out or ruling in, with a focus only on sensitivity or specificity fails to take into account a test’s true predictive ability. This may mean that the results of the test are not ruling out or ruling in to the degree expected$^{[12,13]}$\n",
    "\n",
    "The solution to items 2 – 6 on this list is simply to do better science. Indeed, papers have been published with the sole aim to improve the design and consequent reporting on diagnostic tests, including **'Standards for\n",
    "Reporting Diagnostic accuracy studies' (STARD)** $^{[9, 10]}$.\n",
    "\n",
    "Another factor is **cost**, **risk** and **urgency**. What if you have two tests with comparable sensitivity and specificity, but the one that is slightly higher costs twice as much as the other, takes twice as long and comes with potential side-effects? Now the improved performance may be deemed insignificant.\n",
    "\n",
    "This list also alludes to an elephant-sized issue with diagnostic test development, that of **bias**[14]. To elaborate, sources of bias include the following,\n",
    "\n",
    "- **Selection bias** - Eligible cases aren't selected randomly\n",
    "- **Spectrum bias** - Cases don't correctly represent the target condition or severity of condition\n",
    "- **Misclassification bias** - When the cases aren't classed correctly (i.e. 'with disease' and 'without disease')\n",
    "\n",
    "Etc.\n",
    "\n",
    "Before moving on, I want to highlight item 5 in the list (confidence intervals), as this is one that we can demonstrate with data."
   ]
  },
  {
   "cell_type": "markdown",
   "metadata": {},
   "source": [
    "<a id='Confidence Intervals'></a>\n",
    "### Confidence Intervals"
   ]
  },
  {
   "cell_type": "markdown",
   "metadata": {},
   "source": [
    "***“I couldn't claim that I was smarter than sixty-five other guys--but the average of sixty-five other guys, certainly!”*** - Richard Feynman"
   ]
  },
  {
   "cell_type": "markdown",
   "metadata": {},
   "source": [
    "Flicking through any statistics book will reveal a seemingly limitless array of theorems, equations, models, tools and techniques. Understanding the details of them all is extremely difficult, not-to-mention largely pointless given the number of guides available that point you in the direction of which bits of stats you need for a given problem or data type. \n",
    "That said, having a good understanding of some core principles can help enormously, both in the understanding of your own results, and in order to critique the findings of others. This article focusses on just one. It’s an idea that is both fundamentally important and endemically misunderstood (or even worse, ignored completely), and grasping its core ideas and repercussions will put you in good stead. It’s called the [**central limit theorem**](https://en.wikipedia.org/wiki/Central_limit_theorem). The consequences of this theorem are wide-ranging, but the one of interest here is that of [**confidence intervals**](https://en.wikipedia.org/wiki/Confidence_interval). If you're not sure what they are, I encourage you to follow the previous links to find out more.\n",
    "\n",
    "Here, the consequence of confidence intervals are that for metrics such as sensitivity and specificity, what we have in reality are *estimates* of values, due to the fact that we only have a sample of cases from a wider population. The consequence of this is that if people are promoting a test with high sensitivity as a rule-out test (or high specificity for rule-in), if the lower value from the confidence limits is significantly lower, then your test may be no-where near good enough for this purpose. \n",
    "\n",
    "Let's see an example. From the quick model above, we have a specificity of ~0.93. Some may claim that that's sufficient to rule-in a disease (typically you'd want it higher than that, but let's assume 0.93 is okay for our purposes). Now let's look at the confidence interval for the sensitivity and specificity. To do this, we'll use a technique called [**bootstrapping**](https://en.wikipedia.org/wiki/Bootstrapping_(statistics)), which samples many times from the training data, creates a new model for each one, and generates a sensitivity and specificity for each model,"
   ]
  },
  {
   "cell_type": "code",
   "execution_count": 323,
   "metadata": {
    "collapsed": false
   },
   "outputs": [
    {
     "data": {
      "image/png": "[encoded data removed]",
      "text/plain": [
       "<matplotlib.figure.Figure at 0x2329d1e3898>"
      ]
     },
     "metadata": {},
     "output_type": "display_data"
    },
    {
     "name": "stdout",
     "output_type": "stream",
     "text": [
      "95.0 confidence interval 76.8% and 95.7%\n"
     ]
    }
   ],
   "source": [
    "from sklearn.utils import resample\n",
    "\n",
    "specificity_orig = specificity\n",
    "\n",
    "# configure bootstrap\n",
    "n_iterations = 1000\n",
    "n_size = int(len(bcancer_sub) * 0.25)\n",
    "\n",
    "# run bootstrap\n",
    "sens = list()\n",
    "spec = list()\n",
    "\n",
    "for i in range(n_iterations):\n",
    "    # prepare train and test sets\n",
    "    X_train, X_test, y_train, y_test = train_test_split(bcancer_sub.drop('diagnosis', 1), bcancer_sub['diagnosis'], test_size = .3)\n",
    "    # fit model\n",
    "    dtree = DecisionTreeClassifier(criterion = \"gini\", random_state = 10, max_depth=3, min_samples_leaf=3)\n",
    "    dtree.fit(X_train, y_train)\n",
    "    # evaluate model\n",
    "    y_pred_quant = dtree.predict_proba(X_test)[:, 1] #Only keep the first column, which is the 'pos' values\n",
    "    y_pred_bin = dtree.predict(X_test)\n",
    "    confusion_matrix = metrics.confusion_matrix(y_test, y_pred_bin)\n",
    "    sensitivity = confusion_matrix[0,0]/(confusion_matrix[0,0]+confusion_matrix[0,1])\n",
    "    specificity = confusion_matrix[1,1]/(confusion_matrix[1,0]+confusion_matrix[1,1])\n",
    "    sens.append(sensitivity)\n",
    "    spec.append(specificity)\n",
    "    \n",
    "# plot scores\n",
    "plt.hist(spec)\n",
    "plt.axvline(x=specificity_orig, color='r')\n",
    "plt.show()\n",
    "\n",
    "# confidence intervals\n",
    "alpha = 0.95\n",
    "p = ((1.0-alpha)/2.0) * 100\n",
    "lower = max(0.0, np.percentile(spec, p))\n",
    "p = (alpha+((1.0-alpha)/2.0)) * 100\n",
    "upper = min(1.0, np.percentile(spec, p))\n",
    "print('%.1f confidence interval %.1f%% and %.1f%%' % (alpha*100, lower*100, upper*100))"
   ]
  },
  {
   "cell_type": "markdown",
   "metadata": {},
   "source": [
    "*Thanks to [Machine Learning Mastery](https://machinelearningmastery.com/calculate-bootstrap-confidence-intervals-machine-learning-results-python/) for help with the bootstrapping*"
   ]
  },
  {
   "cell_type": "markdown",
   "metadata": {},
   "source": [
    "So, we have a significantly lower specificity at a 95% confidence level. No-where near good enough to rule-in. This is another aspect of diagnostic testing that is often overlooked."
   ]
  },
  {
   "cell_type": "markdown",
   "metadata": {},
   "source": [
    "Returning to the list of diagnostic test problems, item 1 on the list is particularly fundamental, and requires a different approach to diagnostic testing in general. The way to do this is not novel, and has been in the literature for a number of decades. However, its understanding and application are not straightforward and these facts have hindered widespread use. Let's take a look..."
   ]
  },
  {
   "cell_type": "markdown",
   "metadata": {},
   "source": [
    "<a id='Enter Rev. Bayes'></a>\n",
    "### Enter Rev. Bayes"
   ]
  },
  {
   "cell_type": "markdown",
   "metadata": {},
   "source": [
    "***\"The world is full of obvious things which nobody by any chance ever observes.\"*** - Sherlock Holmes Quote (The Hound of the Baskervilles)"
   ]
  },
  {
   "cell_type": "markdown",
   "metadata": {},
   "source": [
    "Bayesian statistics is a topic often seen in machine learning circles. However, in my experience, the area often used is that of using [**Markov Chain Monte Carlo (MCMC)**](https://en.wikipedia.org/wiki/Markov_chain_Monte_Carlo) to ascertain the details of one or more posterior distributions. The fundamental idea of [**Bayes Rule**](https://en.wikipedia.org/wiki/Bayes%27_theorem) is much simpler, and is simply the idea of updating prior beliefs based upon new information. In the diagnostic world, this simple idea can be incredibly powerful[15], but unfortunately, often ignored.\n",
    "\n",
    "To show what I mean, a paper by Reid et al$^{[16]}$, 300 physicians were surveyed regarding their use of test accuracy metrics, and it was found that just 3% used the recommended formal Bayesian calculations (with a large number citing a lack of understanding of sensitivity, specificity, ROC curves and likelihood ratios for their lack of use). Another paper by Whiting et al$^{[17]}$ also concluded that *\"Commonly used measures of test accuracy are poorly understood by health professionals\"*.\n",
    "\n",
    "The prevailing type of statistics and that used in all traditional applications is known as [**frequentist**](https://en.wikipedia.org/wiki/Frequentist_inference) statistics. This approach assigns probabilities based upon the frequency of events occurring. In contrast, in the [**Bayesian**](https://en.wikipedia.org/wiki/Bayesian_inference) mindset probabilities are related to our current level of knowledge about an event. This latter approach allows the introduction of something called a [**prior**](https://en.wikipedia.org/wiki/Prior_probability) (explained in more detail later), which is a probability assigned before data is collected on an event. \n",
    "\n",
    "It represents therefore (as the name suggested) a prior belief. To the Bayesian, this is Bayesian statistics’ biggest strength, as it allows the full weight of pre-existing evidence and domain knowledge to be brought to bear$^{[18]}$. To the frequentist, this is Bayesian statistics’ biggest weakness, as it introduces a subjective element to what is an objective branch of science. \n",
    "\n",
    "This prior can be deduced in many ways. At the most subjective, it is simply a gut-feeling for the probability of something (for example, the probability of disease based upon experience and training). Less subjective is a local prevalence, for example, the prevalence of a certain disease in a certain clinic. The most rigorous way of determining a prior is through a process known as **elicitation**. This is where a prior probability is determined from a careful examination of the situation. For example, this may be via a series of well-designed questions regarding the state of an individual patient."
   ]
  },
  {
   "cell_type": "markdown",
   "metadata": {},
   "source": [
    "<a id='The problem with sensitivity and specificity: An example'></a>\n",
    "### The Problem with Sensitivity and Specificity: An Example\n",
    "\n",
    "Sensitivity is the probability of getting a positive result given the presence of the disease. It is test-specific and says nothing about the individual patient. Instead, what the patient cares about is the inverse; the probability of having the disease given a positive result. This can be computed using [Bayes rule](https://en.wikipedia.org/wiki/Bayes%27_theorem), which is,\n",
    "\n",
    "\\begin{align}\n",
    "P(B|A) = \\frac{P(B|A)P(A)}{P(B)}\n",
    "\\end{align}\n",
    "\n",
    "This reads as ‘the probability of A given B is equal to the probability of B given A, multiplied by the probability of A, divided by the probability of B’. Notice that it's giving P(B|A) using P(A|B), which is what the PPV gives us compared to sensitivity, as mentioned previously. PPV can be derived from Bayes rule, but you're assuming that the patient in question has a prior probability approximately equal to the prevalence in the reference group. If that's not the case, then you need to use Bayes rule with your alternative prior, as shown below.\n",
    "\n",
    "In the equation above, P(A) is the probability of having the disease and P(B) is the probability of getting a positive result. What are these values? P(A) is the prior (mentioned above). Disease prevalence is often used for P(A) and will be used in the example below. P(B) is the combination of all the ways a positive result could be obtained, i.e. the patient could have the disease and get a positive result or the patient could not have the disease and get a positive result. Specifically (recalling that conditional probabilities are obtained by multiplication),\n",
    "\n",
    "\\begin{align}\n",
    "P(+ve\\:result) = P(disease) * P(+ve\\:result\\:|\\:disease) + P(no\\:disease) * P(+ve\\:result\\:|\\:no disease)\n",
    "\\end{align}\n",
    "\n",
    "Looking back to the diabetes model results from above, we had a sensitivity of ~87% and a specificity of ~61%. We can now obtain the probability of disease, given the disease prevalence. Let’s say that you're using this test in a different population than the test was evaluated (always the case in the real world), and that we have a prevalence of 5%. We have,\n",
    "\n",
    "\\begin{align}\n",
    "P(Disease\\:|\\:+ve) = P(+ve\\:|\\:Disease)\\:*\\:\\frac{P(Disease)}{P(+ve)}\n",
    "\\end{align}\n",
    "\n",
    "\\begin{align}\n",
    "P(Disease\\:|\\:+ve) = P(+ve\\:|\\:Disease)\\:*\\:\\frac{P(Disease)}{P(Disease)\\:*\\:P(+ve\\:|\\:Disease)\\:+\\:no\\:Disease\\:*\\:P(+ve\\:|\\:no Disease)}\n",
    "\\end{align}\n",
    "\n",
    "\\begin{align}\n",
    "P(Disease\\:|\\:+ve) = \\frac{0.87\\:*\\:0.05}{(0.05 * 0.87) + (0.95 * 0.39)}\n",
    "\\end{align}\n",
    "\n",
    "\\begin{align}\n",
    "P(Disease\\:|\\:+ve) = 0.105 ~ 10%\n",
    "\\end{align}\n",
    "\n",
    "So, the probability of a patient having diabetes with a positive result of the test, with a disease prevalence of 5% and a test of sensitivity of 87% and specificity of 61% is **10%**."
   ]
  },
  {
   "cell_type": "markdown",
   "metadata": {},
   "source": [
    "<a id='Context Matters - An Example'></a>\n",
    "### Context Matters - An Example"
   ]
  },
  {
   "cell_type": "markdown",
   "metadata": {},
   "source": [
    "These sorts of calculations are often not well understood or in the forefront of clinician's minds when diagnosing disease. In fact, there are some quite scary studies demonstrating the serious levels of error in posterior probability estimates when presented with tests with very high levels of sensitivity and specificity, plus the widespread practice of ignoring formal Bayesian calculations$^{[19]}$]. This is serious stuff, because without taking into account the context of a diagnostic test result, either properly or at all, you're left with a single piece of evidence that is impossible to interpret. \n",
    "\n",
    "For example, imagine you have a diagnostic test for Ebola with reasonably high levels of sensitivity and specificity, and you run it on someone. You get a **positive** result. Does the person have Ebola?\n",
    "\n",
    "What if you'd run the test in Sierra Leone in 2015. The context suggests you've got a true positive. What about if the test had been run on someone living in a remote rural location in the highlands of Scotland? Now it's looking like a false positive. But wait a minute, it turns out this person was just back from a voluntary medical placement in Sierra Leone. Back to true positive. Next you discover they had an experimental but highly effective Ebola vaccine last year. Now what?\n",
    "\n",
    "Or, take a more extreme example. Home pregnancy tests aren't perfect. If you tested them on thousands of men, you may got a few false-positives (I believe there is some evidence that the hormone that the test looks for, [**beta human chorionic gonadotropin (hCG)**](https://en.wikipedia.org/wiki/Human_chorionic_gonadotropin), is raised in some types of cancer$^{[20]}$]). But if your aim is to answer the question 'is this person pregnant?', a positive result from the test would be dragged down to zero, in the wider biologic context (setting aside [Arnold Schwarzenegger films](https://en.wikipedia.org/wiki/Junior_(1994_film)), with a prior of zero.\n",
    "\n",
    "The test characteristics hasn't changed, but the context *frames* an imperfect result. How an individual does this is critical on the medical decision making process, and in formal Bayesian contexts often involves elicitation."
   ]
  },
  {
   "cell_type": "markdown",
   "metadata": {},
   "source": [
    "<a id='Belief Elicitation'></a>\n",
    "### Belief Elicitation"
   ]
  },
  {
   "cell_type": "markdown",
   "metadata": {},
   "source": [
    "Elicitation is ...*\"the process of translating someone's judgement about some uncertain quantities into something useful for a model\"*$^{[21]}$ and that *\"This will typically be a probability distribution\"*.\n",
    "\n",
    "In other words, it's translating from a doctor saying *\"I'm not sure if that patient has disease X, but I'm pretty confident that one does\"* to *\"Patient A has a prior probability of 20% and patient B has a prior probability of 90%\"*. Now, the danger here is that ten different doctors give you ten different probabilities, due to differences in knowledge, experience and personal biases. For example, one study from 1986 assessing the prior beliefs of 104 clinicians (elicited based upon reviewing patient case summaries) vs actual patient outcomes found huge variations in estimates (ranges of >90%), concluding that the subjective beliefs were largely inaccurate$^{[22]}$. There is also research showing a whole host of reasons why such subjectivity can falter, including,\n",
    "\n",
    "- ***Availability heuristic*** *(clinicians judge the likelihood of a particular diagnosis by how easily examples spring to mind)*\n",
    "- ***Anchoring heuristic*** *(physicians stick with initial impressions)*\n",
    "- ***Framing effects*** *(people make different decisions based on how information is presented)*\n",
    "- ***Blind obedience*** *(trainees stop thinking when confronted with authority)*\n",
    "- ***Premature closure*** *(when several possible options are not pursued)”* $^{[1]}$\n",
    "\n",
    "Since the time of the 1986 paper, there have been efforts to improve the elicitation methodology. In one recent review of the subject$^{[23]}$, they state that *\"'Prior belief' is often a combination of fact-based knowledge with subjective impressions based on clinical experience\"* and that to answer the criticisms of introducing a subjective element, that *\"belief-elicitation methods should be valid, reliable, responsive to change, and feasible\"*. They go on to warn that *\"Threats to the reliability of an elicitation procedure include lack of understanding of the elicitation procedure, carelessness, lack of interest, and fatigue\"*.\n",
    "\n",
    "Setting aside the subjective elements of prior elicitation, one simpler and objective method is to use the prevalence on the disease in question. This, however, comes with its own problems. How do we define 'prevalence'? Is it the national prevalence? County prevalence? Prevalence of an individual hospital? What about age, sex and clinical signs? Is it right to use the same prevalence for a 10-year-old and an 80-year-old? Probably not. In one review of the ways in which disease rates in populations can be quantified$^{[24]}$, they discuss the point-prevalence (a snap-shop of disease rates now), and period-prevalence (the overall prevalence over, say, a 12 month period), going on to discuss 'crude' prevalence (which is the gross, population level estimate) and 'specific' estimates (breaking down by age and sex, for example). A more specific example can be found in a 2017 study$^{[25]}$ of crude and specific prevalence of diabetes, where they found that the crude prevalence was 1.13 per 1000, but much higher at 3.94 for those aged 70-79."
   ]
  },
  {
   "cell_type": "markdown",
   "metadata": {},
   "source": [
    "<a id='From Prior to Posterior Probabilities'></a>\n",
    "### From Prior to Posterior Probabilities"
   ]
  },
  {
   "cell_type": "markdown",
   "metadata": {},
   "source": [
    "So, how do you go from a prior probability to a posterior one, via a diagnostic test? The answer is to use something called [**likelihood ratios**](https://en.wikipedia.org/wiki/Likelihood_ratios_in_diagnostic_testing), and these have the key feature that they incorporate both the sensitivity and the specificity. Indeed, a major criticism of diagnostic testing is when people try to rule-in or rule-out diseases using only a single metric.\n",
    "\n",
    "For example, it is often seen in diagnostic literature that a high sensitivity test is very useful for ruling-out a disease. This is because a high-sensitivity test 'wants' to give a positive answer, meaning it will do so with only a small amount of evidence. Therefore, if you get a negative result with such a test, the logic is that the evidence for a positive result is extremely small. The same (but reverse) logic holds for ruling-in a disease.\n",
    "\n",
    "However, what if your super-sensitive test has a very poor specificity? Say, a sensitivity of 98% and a specificity of 10%. It could be argued at this point that you're not that much further from just calling every case you see a positive (which would give you a sensitivity of 100% and specificity of 0%). In other words, your test's overall predictive ability is poor. A number of articles/papers are available that explain the consequences of such issues$^{[26,27]}$\n",
    "\n",
    "Likelihood ratios are calculated as follows,\n",
    "\n",
    "\\begin{align}\n",
    "Positive\\:Likelihood\\:Ratio = \\frac{Sensitivity}{(1-Specificity)}\n",
    "\\end{align}\n",
    "\n",
    "\\begin{align}\n",
    "Negative\\:Likelihood\\:Ratio = \\frac{1-Sensitivity}{(Specificity)}\n",
    "\\end{align}\n",
    "\n",
    "To go from a prior to a posterior using these ratios, people have historically used something called a [**Fagan Nonogram**](http://www.pmean.com/definitions/fagan.htm). This is a graphical tool that allows the user to draw a line from the prior probability through a likelihood ratio, in order to reach a posterior probability. However, given a computer, it's much easier to just computer the result. For this, we use the following equations,\n",
    "\n",
    "\\begin{align}\n",
    "Prior\\:odds = \\frac{prior\\:probability}{(1-prior\\:probability)}\n",
    "\\end{align}\n",
    "\n",
    "\\begin{align}\n",
    "Posterior\\:odds = Prior\\:odds * Likelihood\\:Ratio\n",
    "\\end{align}\n",
    "\n",
    "\\begin{align}\n",
    "Posterior\\:probability = \\frac{Posterior\\:odds}{(Posterior\\:odds + 1)}\n",
    "\\end{align}\n",
    "\n",
    "\n",
    "Let's put that into a function,"
   ]
  },
  {
   "cell_type": "code",
   "execution_count": 324,
   "metadata": {
    "collapsed": true
   },
   "outputs": [],
   "source": [
    "def diagnostic_posterior(prior,sens,spec):\n",
    "    lr_pos = sens / (1 - spec) #Positive likelihood ratio\n",
    "    lr_neg = (1 - sens) / spec #Negative likelihood ratio\n",
    "    \n",
    "    pre_odds = prior / (1-prior) #Prior odds\n",
    "    post_odds_pos = pre_odds * lr_pos #Positive posterior odds\n",
    "    post_odds_neg = pre_odds * lr_neg #Negative posterior odds\n",
    "    post_pos = post_odds_pos / (1+post_odds_pos) #Positive posterior probability\n",
    "    post_neg = post_odds_neg / (1+post_odds_neg) #Negative posterior probability\n",
    "    \n",
    "    return(post_pos, post_neg)"
   ]
  },
  {
   "cell_type": "markdown",
   "metadata": {},
   "source": [
    "Note that you can get a sense of how much your likelihood ratios will affect the posterior probability from their values. For example, a likelihood ratio of 1 won't affect it at all, a likelihood ratio of 0.1 will lead to a large decrease, and a likelihood ratio of 10 will lead to a large increase. In the breast cancer data above, a quick model gave us a sensitivity of ~0.88 and a specificity of ~0.93. Let's see what the likelihood ratios would be,"
   ]
  },
  {
   "cell_type": "code",
   "execution_count": 325,
   "metadata": {
    "collapsed": false
   },
   "outputs": [
    {
     "name": "stdout",
     "output_type": "stream",
     "text": [
      "The positive and negative likelihood ratios are 12.57, and 0.13, respectively\n"
     ]
    }
   ],
   "source": [
    "lr_pos = 0.88 / (1 - 0.93) #Positive likelihood ratio\n",
    "lr_neg = (1 - 0.88) / 0.93 #Negative likelihood ratio\n",
    "print(\"The positive and negative likelihood ratios are %s, and %s, respectively\" % (round(lr_pos,2), round(lr_neg,2)))"
   ]
  },
  {
   "cell_type": "markdown",
   "metadata": {},
   "source": [
    "What we're doing here is updated our beliefs based upon new evidence, the core idea of Bayesian statistics. Often, diagnostic tests are done sequentially (using the posterior probability of one test as the prior probability of the next), and there is a note of caution here. If the first test in a chain of tests is a quick, cheap test used for **triaging**, and the second test is a more accurate version, that's fine. For example, you use a high sensitivity test to quickly detect as many positives (including some false positives) from a group of patients, and then you can perform a potentially more expensive test on those flagged.\n",
    "\n",
    "If, however, you wish to update your posterior probability through-out a chain of tests, you need to be very careful that the tests are **conditionally independent**. For example, let's say you assign a prior probability of a patient having a certain disease at 10%. You then run a test that comes back positive, and you end up with a posterior of 50%. It would clearly be crazy to rerun the test, get another positive, and update your probability again, but this is exactly what you're doing if a second test is effectively mimicking the first."
   ]
  },
  {
   "cell_type": "markdown",
   "metadata": {},
   "source": [
    "With all of this in mind, what can we do with data to get to these sorts of estimates? Looking through the Kaggle datasets led me to a couple of datasets that could illuminate this point. These are the 'Health Analytics' and the 'Health Nutrition and Population Statistics' datasets."
   ]
  },
  {
   "cell_type": "markdown",
   "metadata": {},
   "source": [
    "#### Health Analytics Dataset"
   ]
  },
  {
   "cell_type": "code",
   "execution_count": 326,
   "metadata": {
    "collapsed": true
   },
   "outputs": [],
   "source": [
    "health = pd.read_csv(path + 'health-analytics\\\\Key_indicator_statewise.csv')"
   ]
  },
  {
   "cell_type": "code",
   "execution_count": 327,
   "metadata": {
    "collapsed": false
   },
   "outputs": [
    {
     "name": "stdout",
     "output_type": "stream",
     "text": [
      "<class 'pandas.core.frame.DataFrame'>\n",
      "RangeIndex: 9 entries, 0 to 8\n",
      "Columns: 643 entries, State_Name to ZZ_Sex_Ratio_At_Birth_Urban_Upper_Limit\n",
      "dtypes: float64(609), int64(33), object(1)\n",
      "memory usage: 45.3+ KB\n"
     ]
    }
   ],
   "source": [
    "health.info()"
   ]
  },
  {
   "cell_type": "code",
   "execution_count": 328,
   "metadata": {
    "collapsed": false
   },
   "outputs": [],
   "source": [
    "health_sub = health.loc[:,['State_Name', 'UU_Children_Suffering_From_Acute_Respiratory_Infection_Total', 'UU_Children_Suffering_From_Acute_Respiratory_Infection_Rural', 'UU_Children_Suffering_From_Acute_Respiratory_Infection_Urban']]"
   ]
  },
  {
   "cell_type": "code",
   "execution_count": 329,
   "metadata": {
    "collapsed": false
   },
   "outputs": [
    {
     "data": {
      "text/html": [
       "<div>\n",
       "<table border=\"1\" class=\"dataframe\">\n",
       "  <thead>\n",
       "    <tr style=\"text-align: right;\">\n",
       "      <th></th>\n",
       "      <th>State_Name</th>\n",
       "      <th>UU_Children_Suffering_From_Acute_Respiratory_Infection_Total</th>\n",
       "      <th>UU_Children_Suffering_From_Acute_Respiratory_Infection_Rural</th>\n",
       "      <th>UU_Children_Suffering_From_Acute_Respiratory_Infection_Urban</th>\n",
       "    </tr>\n",
       "  </thead>\n",
       "  <tbody>\n",
       "    <tr>\n",
       "      <th>0</th>\n",
       "      <td>Assam</td>\n",
       "      <td>18.20</td>\n",
       "      <td>18.50</td>\n",
       "      <td>16.40</td>\n",
       "    </tr>\n",
       "    <tr>\n",
       "      <th>1</th>\n",
       "      <td>Bihar</td>\n",
       "      <td>28.20</td>\n",
       "      <td>27.90</td>\n",
       "      <td>30.40</td>\n",
       "    </tr>\n",
       "    <tr>\n",
       "      <th>2</th>\n",
       "      <td>Chhattisgarh</td>\n",
       "      <td>15.54</td>\n",
       "      <td>15.26</td>\n",
       "      <td>17.03</td>\n",
       "    </tr>\n",
       "    <tr>\n",
       "      <th>3</th>\n",
       "      <td>Jharkhand</td>\n",
       "      <td>21.40</td>\n",
       "      <td>20.90</td>\n",
       "      <td>23.20</td>\n",
       "    </tr>\n",
       "    <tr>\n",
       "      <th>4</th>\n",
       "      <td>Madhya Pradesh</td>\n",
       "      <td>19.20</td>\n",
       "      <td>19.40</td>\n",
       "      <td>18.70</td>\n",
       "    </tr>\n",
       "    <tr>\n",
       "      <th>5</th>\n",
       "      <td>Odisha</td>\n",
       "      <td>25.40</td>\n",
       "      <td>25.11</td>\n",
       "      <td>27.29</td>\n",
       "    </tr>\n",
       "    <tr>\n",
       "      <th>6</th>\n",
       "      <td>Rajasthan</td>\n",
       "      <td>15.90</td>\n",
       "      <td>15.10</td>\n",
       "      <td>18.70</td>\n",
       "    </tr>\n",
       "    <tr>\n",
       "      <th>7</th>\n",
       "      <td>Uttar Pradesh</td>\n",
       "      <td>27.90</td>\n",
       "      <td>27.15</td>\n",
       "      <td>31.13</td>\n",
       "    </tr>\n",
       "    <tr>\n",
       "      <th>8</th>\n",
       "      <td>Uttarakhand</td>\n",
       "      <td>11.45</td>\n",
       "      <td>10.96</td>\n",
       "      <td>12.81</td>\n",
       "    </tr>\n",
       "  </tbody>\n",
       "</table>\n",
       "</div>"
      ],
      "text/plain": [
       "       State_Name  \\\n",
       "0           Assam   \n",
       "1           Bihar   \n",
       "2    Chhattisgarh   \n",
       "3       Jharkhand   \n",
       "4  Madhya Pradesh   \n",
       "5          Odisha   \n",
       "6       Rajasthan   \n",
       "7   Uttar Pradesh   \n",
       "8     Uttarakhand   \n",
       "\n",
       "   UU_Children_Suffering_From_Acute_Respiratory_Infection_Total  \\\n",
       "0                                              18.20              \n",
       "1                                              28.20              \n",
       "2                                              15.54              \n",
       "3                                              21.40              \n",
       "4                                              19.20              \n",
       "5                                              25.40              \n",
       "6                                              15.90              \n",
       "7                                              27.90              \n",
       "8                                              11.45              \n",
       "\n",
       "   UU_Children_Suffering_From_Acute_Respiratory_Infection_Rural  \\\n",
       "0                                              18.50              \n",
       "1                                              27.90              \n",
       "2                                              15.26              \n",
       "3                                              20.90              \n",
       "4                                              19.40              \n",
       "5                                              25.11              \n",
       "6                                              15.10              \n",
       "7                                              27.15              \n",
       "8                                              10.96              \n",
       "\n",
       "   UU_Children_Suffering_From_Acute_Respiratory_Infection_Urban  \n",
       "0                                              16.40             \n",
       "1                                              30.40             \n",
       "2                                              17.03             \n",
       "3                                              23.20             \n",
       "4                                              18.70             \n",
       "5                                              27.29             \n",
       "6                                              18.70             \n",
       "7                                              31.13             \n",
       "8                                              12.81             "
      ]
     },
     "execution_count": 329,
     "metadata": {},
     "output_type": "execute_result"
    }
   ],
   "source": [
    "health_sub"
   ]
  },
  {
   "cell_type": "markdown",
   "metadata": {},
   "source": [
    "From this, if a child was taken to a clinician with breathing difficulties, an acute respiratory infection might be suspected. Let's say a test is available for such a condition with a particular sensitivity and specificity. We could use the data here as a prior probability, and what's interesting is that we have specific values for different states and different environments. For example, take a look at the minimum value in the table,"
   ]
  },
  {
   "cell_type": "code",
   "execution_count": 330,
   "metadata": {
    "collapsed": false
   },
   "outputs": [
    {
     "data": {
      "text/plain": [
       "State_Name                                                      Uttarakhand\n",
       "UU_Children_Suffering_From_Acute_Respiratory_Infection_Total          11.45\n",
       "UU_Children_Suffering_From_Acute_Respiratory_Infection_Rural          10.96\n",
       "UU_Children_Suffering_From_Acute_Respiratory_Infection_Urban          12.81\n",
       "Name: 8, dtype: object"
      ]
     },
     "execution_count": 330,
     "metadata": {},
     "output_type": "execute_result"
    }
   ],
   "source": [
    "health_sub.loc[health_sub['UU_Children_Suffering_From_Acute_Respiratory_Infection_Total'].idxmin()]"
   ]
  },
  {
   "cell_type": "markdown",
   "metadata": {},
   "source": [
    "And the maximum,"
   ]
  },
  {
   "cell_type": "code",
   "execution_count": 331,
   "metadata": {
    "collapsed": false
   },
   "outputs": [
    {
     "data": {
      "text/plain": [
       "State_Name                                                      Bihar\n",
       "UU_Children_Suffering_From_Acute_Respiratory_Infection_Total     28.2\n",
       "UU_Children_Suffering_From_Acute_Respiratory_Infection_Rural     27.9\n",
       "UU_Children_Suffering_From_Acute_Respiratory_Infection_Urban     30.4\n",
       "Name: 1, dtype: object"
      ]
     },
     "execution_count": 331,
     "metadata": {},
     "output_type": "execute_result"
    }
   ],
   "source": [
    "health_sub.loc[health_sub['UU_Children_Suffering_From_Acute_Respiratory_Infection_Total'].idxmax()]"
   ]
  },
  {
   "cell_type": "markdown",
   "metadata": {},
   "source": [
    "So, it could be argued that a child with suspected acute respiratory infection in Bihar, living in a rural area has a prior of 27.9%, and a child from Uttarakhand also living in a rural area has a prior of 10.96%.\n",
    "\n",
    "Let's use a different dataset to perform some calculations,"
   ]
  },
  {
   "cell_type": "markdown",
   "metadata": {},
   "source": [
    "#### Health Nutrition and Population Statistics Dataset"
   ]
  },
  {
   "cell_type": "code",
   "execution_count": 332,
   "metadata": {
    "collapsed": false
   },
   "outputs": [],
   "source": [
    "global_health = pd.read_csv(path + 'health_global\\\\data.csv')"
   ]
  },
  {
   "cell_type": "code",
   "execution_count": 333,
   "metadata": {
    "collapsed": false
   },
   "outputs": [
    {
     "data": {
      "text/html": [
       "<div>\n",
       "<table border=\"1\" class=\"dataframe\">\n",
       "  <thead>\n",
       "    <tr style=\"text-align: right;\">\n",
       "      <th></th>\n",
       "      <th>Country Name</th>\n",
       "      <th>Country Code</th>\n",
       "      <th>Indicator Name</th>\n",
       "      <th>Indicator Code</th>\n",
       "      <th>1960</th>\n",
       "      <th>1961</th>\n",
       "      <th>1962</th>\n",
       "      <th>1963</th>\n",
       "      <th>1964</th>\n",
       "      <th>1965</th>\n",
       "      <th>...</th>\n",
       "      <th>2007</th>\n",
       "      <th>2008</th>\n",
       "      <th>2009</th>\n",
       "      <th>2010</th>\n",
       "      <th>2011</th>\n",
       "      <th>2012</th>\n",
       "      <th>2013</th>\n",
       "      <th>2014</th>\n",
       "      <th>2015</th>\n",
       "      <th>Unnamed: 60</th>\n",
       "    </tr>\n",
       "  </thead>\n",
       "  <tbody>\n",
       "    <tr>\n",
       "      <th>0</th>\n",
       "      <td>Arab World</td>\n",
       "      <td>ARB</td>\n",
       "      <td>% of females ages 15-49 having comprehensive c...</td>\n",
       "      <td>SH.HIV.KNOW.FE.ZS</td>\n",
       "      <td>NaN</td>\n",
       "      <td>NaN</td>\n",
       "      <td>NaN</td>\n",
       "      <td>NaN</td>\n",
       "      <td>NaN</td>\n",
       "      <td>NaN</td>\n",
       "      <td>...</td>\n",
       "      <td>NaN</td>\n",
       "      <td>NaN</td>\n",
       "      <td>NaN</td>\n",
       "      <td>NaN</td>\n",
       "      <td>NaN</td>\n",
       "      <td>NaN</td>\n",
       "      <td>NaN</td>\n",
       "      <td>NaN</td>\n",
       "      <td>NaN</td>\n",
       "      <td>NaN</td>\n",
       "    </tr>\n",
       "    <tr>\n",
       "      <th>1</th>\n",
       "      <td>Arab World</td>\n",
       "      <td>ARB</td>\n",
       "      <td>% of males ages 15-49 having comprehensive cor...</td>\n",
       "      <td>SH.HIV.KNOW.MA.ZS</td>\n",
       "      <td>NaN</td>\n",
       "      <td>NaN</td>\n",
       "      <td>NaN</td>\n",
       "      <td>NaN</td>\n",
       "      <td>NaN</td>\n",
       "      <td>NaN</td>\n",
       "      <td>...</td>\n",
       "      <td>NaN</td>\n",
       "      <td>NaN</td>\n",
       "      <td>NaN</td>\n",
       "      <td>NaN</td>\n",
       "      <td>NaN</td>\n",
       "      <td>NaN</td>\n",
       "      <td>NaN</td>\n",
       "      <td>NaN</td>\n",
       "      <td>NaN</td>\n",
       "      <td>NaN</td>\n",
       "    </tr>\n",
       "    <tr>\n",
       "      <th>2</th>\n",
       "      <td>Arab World</td>\n",
       "      <td>ARB</td>\n",
       "      <td>Adolescent fertility rate (births per 1,000 wo...</td>\n",
       "      <td>SP.ADO.TFRT</td>\n",
       "      <td>133.555013</td>\n",
       "      <td>134.159119</td>\n",
       "      <td>134.857912</td>\n",
       "      <td>134.504576</td>\n",
       "      <td>134.105211</td>\n",
       "      <td>133.569626</td>\n",
       "      <td>...</td>\n",
       "      <td>49.999851</td>\n",
       "      <td>49.887046</td>\n",
       "      <td>49.781207</td>\n",
       "      <td>49.672975</td>\n",
       "      <td>49.536047</td>\n",
       "      <td>49.383745</td>\n",
       "      <td>48.796558</td>\n",
       "      <td>48.196418</td>\n",
       "      <td>NaN</td>\n",
       "      <td>NaN</td>\n",
       "    </tr>\n",
       "    <tr>\n",
       "      <th>3</th>\n",
       "      <td>Arab World</td>\n",
       "      <td>ARB</td>\n",
       "      <td>Adults (ages 15+) and children (0-14 years) li...</td>\n",
       "      <td>SH.HIV.TOTL</td>\n",
       "      <td>NaN</td>\n",
       "      <td>NaN</td>\n",
       "      <td>NaN</td>\n",
       "      <td>NaN</td>\n",
       "      <td>NaN</td>\n",
       "      <td>NaN</td>\n",
       "      <td>...</td>\n",
       "      <td>NaN</td>\n",
       "      <td>NaN</td>\n",
       "      <td>NaN</td>\n",
       "      <td>NaN</td>\n",
       "      <td>NaN</td>\n",
       "      <td>NaN</td>\n",
       "      <td>NaN</td>\n",
       "      <td>NaN</td>\n",
       "      <td>NaN</td>\n",
       "      <td>NaN</td>\n",
       "    </tr>\n",
       "    <tr>\n",
       "      <th>4</th>\n",
       "      <td>Arab World</td>\n",
       "      <td>ARB</td>\n",
       "      <td>Adults (ages 15+) and children (ages 0-14) new...</td>\n",
       "      <td>SH.HIV.INCD.TL</td>\n",
       "      <td>NaN</td>\n",
       "      <td>NaN</td>\n",
       "      <td>NaN</td>\n",
       "      <td>NaN</td>\n",
       "      <td>NaN</td>\n",
       "      <td>NaN</td>\n",
       "      <td>...</td>\n",
       "      <td>NaN</td>\n",
       "      <td>NaN</td>\n",
       "      <td>NaN</td>\n",
       "      <td>NaN</td>\n",
       "      <td>NaN</td>\n",
       "      <td>NaN</td>\n",
       "      <td>NaN</td>\n",
       "      <td>NaN</td>\n",
       "      <td>NaN</td>\n",
       "      <td>NaN</td>\n",
       "    </tr>\n",
       "  </tbody>\n",
       "</table>\n",
       "<p>5 rows × 61 columns</p>\n",
       "</div>"
      ],
      "text/plain": [
       "  Country Name Country Code  \\\n",
       "0   Arab World          ARB   \n",
       "1   Arab World          ARB   \n",
       "2   Arab World          ARB   \n",
       "3   Arab World          ARB   \n",
       "4   Arab World          ARB   \n",
       "\n",
       "                                      Indicator Name     Indicator Code  \\\n",
       "0  % of females ages 15-49 having comprehensive c...  SH.HIV.KNOW.FE.ZS   \n",
       "1  % of males ages 15-49 having comprehensive cor...  SH.HIV.KNOW.MA.ZS   \n",
       "2  Adolescent fertility rate (births per 1,000 wo...        SP.ADO.TFRT   \n",
       "3  Adults (ages 15+) and children (0-14 years) li...        SH.HIV.TOTL   \n",
       "4  Adults (ages 15+) and children (ages 0-14) new...     SH.HIV.INCD.TL   \n",
       "\n",
       "         1960        1961        1962        1963        1964        1965  \\\n",
       "0         NaN         NaN         NaN         NaN         NaN         NaN   \n",
       "1         NaN         NaN         NaN         NaN         NaN         NaN   \n",
       "2  133.555013  134.159119  134.857912  134.504576  134.105211  133.569626   \n",
       "3         NaN         NaN         NaN         NaN         NaN         NaN   \n",
       "4         NaN         NaN         NaN         NaN         NaN         NaN   \n",
       "\n",
       "      ...            2007       2008       2009       2010       2011  \\\n",
       "0     ...             NaN        NaN        NaN        NaN        NaN   \n",
       "1     ...             NaN        NaN        NaN        NaN        NaN   \n",
       "2     ...       49.999851  49.887046  49.781207  49.672975  49.536047   \n",
       "3     ...             NaN        NaN        NaN        NaN        NaN   \n",
       "4     ...             NaN        NaN        NaN        NaN        NaN   \n",
       "\n",
       "        2012       2013       2014  2015  Unnamed: 60  \n",
       "0        NaN        NaN        NaN   NaN          NaN  \n",
       "1        NaN        NaN        NaN   NaN          NaN  \n",
       "2  49.383745  48.796558  48.196418   NaN          NaN  \n",
       "3        NaN        NaN        NaN   NaN          NaN  \n",
       "4        NaN        NaN        NaN   NaN          NaN  \n",
       "\n",
       "[5 rows x 61 columns]"
      ]
     },
     "execution_count": 333,
     "metadata": {},
     "output_type": "execute_result"
    }
   ],
   "source": [
    "global_health.head()"
   ]
  },
  {
   "cell_type": "code",
   "execution_count": 334,
   "metadata": {
    "collapsed": false
   },
   "outputs": [],
   "source": [
    "global_health_sub = global_health[global_health['Indicator Name'].str.contains('Prevalence of HIV')]"
   ]
  },
  {
   "cell_type": "code",
   "execution_count": 335,
   "metadata": {
    "collapsed": false
   },
   "outputs": [],
   "source": [
    "global_health_sub = global_health_sub.loc[:,('Country Name', 'Indicator Name', '2005')]"
   ]
  },
  {
   "cell_type": "code",
   "execution_count": 336,
   "metadata": {
    "collapsed": true
   },
   "outputs": [],
   "source": [
    "global_health_sub = global_health_sub.dropna(subset = ['2005'])"
   ]
  },
  {
   "cell_type": "code",
   "execution_count": 337,
   "metadata": {
    "collapsed": false
   },
   "outputs": [
    {
     "data": {
      "text/html": [
       "<div>\n",
       "<table border=\"1\" class=\"dataframe\">\n",
       "  <thead>\n",
       "    <tr style=\"text-align: right;\">\n",
       "      <th></th>\n",
       "      <th>Country Name</th>\n",
       "      <th>Indicator Name</th>\n",
       "      <th>2005</th>\n",
       "    </tr>\n",
       "  </thead>\n",
       "  <tbody>\n",
       "    <tr>\n",
       "      <th>20286</th>\n",
       "      <td>Belarus</td>\n",
       "      <td>Prevalence of HIV, female (% ages 15-24)</td>\n",
       "      <td>0.1</td>\n",
       "    </tr>\n",
       "    <tr>\n",
       "      <th>58237</th>\n",
       "      <td>Mexico</td>\n",
       "      <td>Prevalence of HIV, male (% ages 15-24)</td>\n",
       "      <td>0.1</td>\n",
       "    </tr>\n",
       "    <tr>\n",
       "      <th>67552</th>\n",
       "      <td>Philippines</td>\n",
       "      <td>Prevalence of HIV, male (% ages 15-24)</td>\n",
       "      <td>0.1</td>\n",
       "    </tr>\n",
       "    <tr>\n",
       "      <th>67553</th>\n",
       "      <td>Philippines</td>\n",
       "      <td>Prevalence of HIV, total (% of population ages...</td>\n",
       "      <td>0.1</td>\n",
       "    </tr>\n",
       "    <tr>\n",
       "      <th>58236</th>\n",
       "      <td>Mexico</td>\n",
       "      <td>Prevalence of HIV, female (% ages 15-24)</td>\n",
       "      <td>0.1</td>\n",
       "    </tr>\n",
       "  </tbody>\n",
       "</table>\n",
       "</div>"
      ],
      "text/plain": [
       "      Country Name                                     Indicator Name  2005\n",
       "20286      Belarus           Prevalence of HIV, female (% ages 15-24)   0.1\n",
       "58237       Mexico             Prevalence of HIV, male (% ages 15-24)   0.1\n",
       "67552  Philippines             Prevalence of HIV, male (% ages 15-24)   0.1\n",
       "67553  Philippines  Prevalence of HIV, total (% of population ages...   0.1\n",
       "58236       Mexico           Prevalence of HIV, female (% ages 15-24)   0.1"
      ]
     },
     "execution_count": 337,
     "metadata": {},
     "output_type": "execute_result"
    }
   ],
   "source": [
    "global_health_sub.sort_values(['2005']).head()"
   ]
  },
  {
   "cell_type": "code",
   "execution_count": 338,
   "metadata": {
    "collapsed": false
   },
   "outputs": [
    {
     "data": {
      "text/html": [
       "<div>\n",
       "<table border=\"1\" class=\"dataframe\">\n",
       "  <thead>\n",
       "    <tr style=\"text-align: right;\">\n",
       "      <th></th>\n",
       "      <th>Country Name</th>\n",
       "      <th>Indicator Name</th>\n",
       "      <th>2005</th>\n",
       "    </tr>\n",
       "  </thead>\n",
       "  <tbody>\n",
       "    <tr>\n",
       "      <th>78591</th>\n",
       "      <td>Swaziland</td>\n",
       "      <td>Prevalence of HIV, female (% ages 15-24)</td>\n",
       "      <td>18.1</td>\n",
       "    </tr>\n",
       "    <tr>\n",
       "      <th>75143</th>\n",
       "      <td>South Africa</td>\n",
       "      <td>Prevalence of HIV, total (% of population ages...</td>\n",
       "      <td>20.8</td>\n",
       "    </tr>\n",
       "    <tr>\n",
       "      <th>52373</th>\n",
       "      <td>Lesotho</td>\n",
       "      <td>Prevalence of HIV, total (% of population ages...</td>\n",
       "      <td>22.8</td>\n",
       "    </tr>\n",
       "    <tr>\n",
       "      <th>23048</th>\n",
       "      <td>Botswana</td>\n",
       "      <td>Prevalence of HIV, total (% of population ages...</td>\n",
       "      <td>24.6</td>\n",
       "    </tr>\n",
       "    <tr>\n",
       "      <th>78593</th>\n",
       "      <td>Swaziland</td>\n",
       "      <td>Prevalence of HIV, total (% of population ages...</td>\n",
       "      <td>25.7</td>\n",
       "    </tr>\n",
       "  </tbody>\n",
       "</table>\n",
       "</div>"
      ],
      "text/plain": [
       "       Country Name                                     Indicator Name  2005\n",
       "78591     Swaziland           Prevalence of HIV, female (% ages 15-24)  18.1\n",
       "75143  South Africa  Prevalence of HIV, total (% of population ages...  20.8\n",
       "52373       Lesotho  Prevalence of HIV, total (% of population ages...  22.8\n",
       "23048      Botswana  Prevalence of HIV, total (% of population ages...  24.6\n",
       "78593     Swaziland  Prevalence of HIV, total (% of population ages...  25.7"
      ]
     },
     "execution_count": 338,
     "metadata": {},
     "output_type": "execute_result"
    }
   ],
   "source": [
    "global_health_sub.sort_values(['2005']).tail()"
   ]
  },
  {
   "cell_type": "code",
   "execution_count": 339,
   "metadata": {
    "collapsed": false
   },
   "outputs": [
    {
     "data": {
      "text/html": [
       "<div>\n",
       "<table border=\"1\" class=\"dataframe\">\n",
       "  <thead>\n",
       "    <tr style=\"text-align: right;\">\n",
       "      <th></th>\n",
       "      <th>Country Name</th>\n",
       "      <th>Indicator Name</th>\n",
       "      <th>2005</th>\n",
       "    </tr>\n",
       "  </thead>\n",
       "  <tbody>\n",
       "    <tr>\n",
       "      <th>78591</th>\n",
       "      <td>Swaziland</td>\n",
       "      <td>Prevalence of HIV, female (% ages 15-24)</td>\n",
       "      <td>18.1</td>\n",
       "    </tr>\n",
       "    <tr>\n",
       "      <th>78592</th>\n",
       "      <td>Swaziland</td>\n",
       "      <td>Prevalence of HIV, male (% ages 15-24)</td>\n",
       "      <td>6.7</td>\n",
       "    </tr>\n",
       "    <tr>\n",
       "      <th>78593</th>\n",
       "      <td>Swaziland</td>\n",
       "      <td>Prevalence of HIV, total (% of population ages...</td>\n",
       "      <td>25.7</td>\n",
       "    </tr>\n",
       "  </tbody>\n",
       "</table>\n",
       "</div>"
      ],
      "text/plain": [
       "      Country Name                                     Indicator Name  2005\n",
       "78591    Swaziland           Prevalence of HIV, female (% ages 15-24)  18.1\n",
       "78592    Swaziland             Prevalence of HIV, male (% ages 15-24)   6.7\n",
       "78593    Swaziland  Prevalence of HIV, total (% of population ages...  25.7"
      ]
     },
     "execution_count": 339,
     "metadata": {},
     "output_type": "execute_result"
    }
   ],
   "source": [
    "global_health_sub[global_health_sub['Country Name'] == 'Swaziland']"
   ]
  },
  {
   "cell_type": "code",
   "execution_count": 340,
   "metadata": {
    "collapsed": false
   },
   "outputs": [
    {
     "data": {
      "text/html": [
       "<div>\n",
       "<table border=\"1\" class=\"dataframe\">\n",
       "  <thead>\n",
       "    <tr style=\"text-align: right;\">\n",
       "      <th></th>\n",
       "      <th>Country Name</th>\n",
       "      <th>Indicator Name</th>\n",
       "      <th>2005</th>\n",
       "    </tr>\n",
       "  </thead>\n",
       "  <tbody>\n",
       "    <tr>\n",
       "      <th>20286</th>\n",
       "      <td>Belarus</td>\n",
       "      <td>Prevalence of HIV, female (% ages 15-24)</td>\n",
       "      <td>0.1</td>\n",
       "    </tr>\n",
       "    <tr>\n",
       "      <th>20287</th>\n",
       "      <td>Belarus</td>\n",
       "      <td>Prevalence of HIV, male (% ages 15-24)</td>\n",
       "      <td>0.1</td>\n",
       "    </tr>\n",
       "    <tr>\n",
       "      <th>20288</th>\n",
       "      <td>Belarus</td>\n",
       "      <td>Prevalence of HIV, total (% of population ages...</td>\n",
       "      <td>0.2</td>\n",
       "    </tr>\n",
       "  </tbody>\n",
       "</table>\n",
       "</div>"
      ],
      "text/plain": [
       "      Country Name                                     Indicator Name  2005\n",
       "20286      Belarus           Prevalence of HIV, female (% ages 15-24)   0.1\n",
       "20287      Belarus             Prevalence of HIV, male (% ages 15-24)   0.1\n",
       "20288      Belarus  Prevalence of HIV, total (% of population ages...   0.2"
      ]
     },
     "execution_count": 340,
     "metadata": {},
     "output_type": "execute_result"
    }
   ],
   "source": [
    "global_health_sub[global_health_sub['Country Name'] == 'Belarus']"
   ]
  },
  {
   "cell_type": "markdown",
   "metadata": {},
   "source": [
    "So, let's say we have a quick, cheap, point-of-care HIV test that works on a single drop of blood and gives a YES/NO answer in 10 minutes (this would probably be a [lateral flow device](https://en.wikipedia.org/wiki/Lateral_flow_test), like with a home pregnancy test). The test has a sensitivity and specificity of 99%, and you run the test on four different people,\n",
    "\n",
    "- A 20 year old man from Swaziland\n",
    "- A 20 year old woman from Swaziland\n",
    "- A 20 year old man from Belarus\n",
    "- A 20 year old woman from Belarus\n",
    "\n",
    "All four test results are 'YES' (or positive for HIV). What is the probability, based upon the data we have, that they've got HIV? Let's take a look,"
   ]
  },
  {
   "cell_type": "code",
   "execution_count": 341,
   "metadata": {
    "collapsed": false
   },
   "outputs": [
    {
     "name": "stdout",
     "output_type": "stream",
     "text": [
      "A 20 year old man from Swaziland probability is 0.96\n",
      "A 20 year old woman from Swaziland probability is 0.88\n",
      "A 20 year old man from Belarus probability is 0.09\n",
      "A 20 year old woman from Belarus probability is 0.09\n"
     ]
    }
   ],
   "source": [
    "print(\"A 20 year old man from Swaziland probability is {:0.2f}\".format(diagnostic_posterior(0.181,0.99,0.99)[0]))\n",
    "print(\"A 20 year old woman from Swaziland probability is {:0.2f}\".format(diagnostic_posterior(0.067,0.99,0.99)[0]))\n",
    "print(\"A 20 year old man from Belarus probability is {:0.2f}\".format(diagnostic_posterior(0.001,0.99,0.99)[0]))\n",
    "print(\"A 20 year old woman from Belarus probability is {:0.2f}\".format(diagnostic_posterior(0.001,0.99,0.99)[0]))"
   ]
  },
  {
   "cell_type": "markdown",
   "metadata": {},
   "source": [
    "So, the exact same test giving the exact same result could mean the person has a **9%** or **96%** chance of having HIV. **Context matters!**"
   ]
  },
  {
   "cell_type": "markdown",
   "metadata": {},
   "source": [
    "Let's generate the posterior probability for this imaginary test at all prevalences,"
   ]
  },
  {
   "cell_type": "code",
   "execution_count": 342,
   "metadata": {
    "collapsed": false
   },
   "outputs": [],
   "source": [
    "post = list()\n",
    "prev_options = np.arange(0.0, 1.0, 0.01)\n",
    "\n",
    "for i in prev_options:\n",
    "    post_temp = diagnostic_posterior(i,0.99,0.99)[0]\n",
    "    post.append(post_temp)"
   ]
  },
  {
   "cell_type": "markdown",
   "metadata": {},
   "source": [
    "Then plot the results, along with the two prevalences highlighted above,"
   ]
  },
  {
   "cell_type": "code",
   "execution_count": 343,
   "metadata": {
    "collapsed": false
   },
   "outputs": [
    {
     "data": {
      "text/plain": [
       "<matplotlib.lines.Line2D at 0x232a144f470>"
      ]
     },
     "execution_count": 343,
     "metadata": {},
     "output_type": "execute_result"
    },
    {
     "data": {
      "image/png": "[encoded data removed]",
      "text/plain": [
       "<matplotlib.figure.Figure at 0x2329d5e7b38>"
      ]
     },
     "metadata": {},
     "output_type": "display_data"
    }
   ],
   "source": [
    "fig, ax = plt.subplots()\n",
    "ax.plot(prev_options, post)\n",
    "plt.xlim([0.0, 1.0])\n",
    "plt.ylim([0.0, 1.0])\n",
    "plt.rcParams['font.size'] = 12\n",
    "plt.title('Prevalence vs Posterior Probability (sens/spec = 0.99)')\n",
    "plt.xlabel('Prevalence')\n",
    "plt.ylabel('Posterior Probability')\n",
    "#plt.axhline(y=0.09, color='r')\n",
    "#plt.axhline(y=0.96, color='r')\n",
    "plt.axvline(x=0.181, color='r')\n",
    "plt.axvline(x=0.001, color='r')"
   ]
  },
  {
   "cell_type": "markdown",
   "metadata": {},
   "source": [
    "As you can see, at such high sensitivity and specificity, the posterior probability jumps very quickly, meaning that you only need a small prior probability (disease prevalence here) for the test to be fairly confident. If the sensitivity and specificity were lower (say, both 0.80), the rise would be more gradual,"
   ]
  },
  {
   "cell_type": "code",
   "execution_count": 344,
   "metadata": {
    "collapsed": false
   },
   "outputs": [
    {
     "data": {
      "text/plain": [
       "<matplotlib.text.Text at 0x232a1484278>"
      ]
     },
     "execution_count": 344,
     "metadata": {},
     "output_type": "execute_result"
    },
    {
     "data": {
      "image/png": "[encoded data removed]",
      "text/plain": [
       "<matplotlib.figure.Figure at 0x232a114c6d8>"
      ]
     },
     "metadata": {},
     "output_type": "display_data"
    }
   ],
   "source": [
    "post = list()\n",
    "prev_options = np.arange(0.0, 1.0, 0.01)\n",
    "\n",
    "for i in prev_options:\n",
    "    post_temp = diagnostic_posterior(i,0.80,0.80)[0]\n",
    "    post.append(post_temp)\n",
    "    \n",
    "fig, ax = plt.subplots()\n",
    "ax.plot(prev_options, post)\n",
    "plt.xlim([0.0, 1.0])\n",
    "plt.ylim([0.0, 1.0])\n",
    "plt.rcParams['font.size'] = 12\n",
    "plt.title('Prevalence vs Posterior Probability (sens/spec = 0.80)')\n",
    "plt.xlabel('Prevalence')\n",
    "plt.ylabel('Posterior Probability')"
   ]
  },
  {
   "cell_type": "markdown",
   "metadata": {},
   "source": [
    "<a id='Treatment Thresholds'></a>\n",
    "### Treatment Thresholds"
   ]
  },
  {
   "cell_type": "markdown",
   "metadata": {},
   "source": [
    "***\"The art of medicine consists in amusing the patient while nature cures the disease\"*** - Voltaire"
   ]
  },
  {
   "cell_type": "markdown",
   "metadata": {},
   "source": [
    "There is one more consequence of all this, which, if used more by medical professionals could save quite a lot of money. The idea is that of treatment thresholds, which are informal levels above which the clinician would take a certain course of action$^{[28]}$. For example, let's say that a clinician is about to run a diagnostic test for a certain disease, and it costs £50. The sensitivity of the test is 92% and the specificity is 85%, and the threshold for treatment, i.e. the posterior probability above which a certain drug will be prescribed is 90%. Now let's say the prior probability is estimated to be just 1%. Before the test is run, let's see what the posterior probability will be if we get a positive result,"
   ]
  },
  {
   "cell_type": "code",
   "execution_count": 345,
   "metadata": {
    "collapsed": false
   },
   "outputs": [
    {
     "data": {
      "text/plain": [
       "0.05833861762840837"
      ]
     },
     "execution_count": 345,
     "metadata": {},
     "output_type": "execute_result"
    }
   ],
   "source": [
    "diagnostic_posterior(0.01,0.92,0.85)[0]"
   ]
  },
  {
   "cell_type": "markdown",
   "metadata": {},
   "source": [
    "Just under 6%. No-where near the informal 90% that the clinician had in mind for starting the course of treatment. Therefore, there is absolutely no point running the test, as it's result, whether negative or positive, will not change the course of action. How many tests are run globally, every day, that fit this description? I dread to think! The takeaway here is that diagnostic tests should only be used when their outcome could alter the **management of the patient**."
   ]
  },
  {
   "cell_type": "markdown",
   "metadata": {},
   "source": [
    "### Use in the Real World"
   ]
  },
  {
   "cell_type": "markdown",
   "metadata": {},
   "source": [
    "The application of Bayesian statistics to diagnostic testing is widespread in the literature. Almost all have a common theme; They begin by criticising the current, common application of diagnostic test results, and then propose using Bayesian statistics instead$^{[29-40]}$. All the arguments and explanations above can be found repeated in these papers.\n",
    "\n",
    "The elicitation of prior probabilities and their effectiveness is a large area of research$^{[41-47]}$, demonstrating that the establishment of pre-test probabilities can potentially involve immense amounts of work. It should be noted, however, that often this work is focussed upon establishing **prior distributions** (i.e. not just single values) for every term in a complex statistical model. These priors are commonly described using [beta distributions](https://en.wikipedia.org/wiki/Beta_distribution). The posterior probabilities are then determined using advanced computational techniques such as MCMC. This is a level of detail and technicality beyond what is being proposed here.\n",
    "\n",
    "A number of papers exist that employ Bayesian techniques in the manner outlined above. For example, in a paper by Cochon et al$^{[48]}$, the diagnostic value of lactate, procalcitonin (PCT) and C-reactive protein (CRP) are assessed for the diagnosis of sepsis. However, rather than taking the results of these tests in isolation, the results are combined with prior probabilities, along with each test’s positive and negative likelihood ratios. Interestingly, rather than using a subjective prior, the patients in the study were stratified into three groups (low risk, medium risk and high risk) using the **Mortality in Emergency Department (MEDS) risk score** $^{[49,50]}$. This is a system based upon a series of risk factors, including age, platelet count and mental state. Their conclusion was that PCT offered the highest relative gain from prior to posterior probabilities (i.e. the highest positive likelihood ratio).\n",
    "\n",
    "In a related paper, Cochon$^{[51]}$ et al applied a similar tactic to assess PCT and lactate for the prediction of ICU admission of pneumonia patients. Here they employed the **CURB 65 scoring system** for the patient stratification$^{[52,53]}$. This system is based upon factors such as mental state, respiratory rate and age.\n",
    "\n",
    "In a paper by Lu et al$^{[54]}$, both machine learning and Bayesian methods were employed to predict rotator cuff tears (a common cause of shoulder diseases). In this paper, three different algorithms were developed based upon 16 attributes of 169 patients (evaluated using 10-fold cross-validation). The results from the best performing algorithm where then used with subjective prior probabilities (via a Fagan nonogram) to give posterior probabilities for each patient (the true outcome for each patient was known from consequent MRIs scans)."
   ]
  },
  {
   "cell_type": "markdown",
   "metadata": {},
   "source": [
    "<a id='Closing Thoughts'></a>\n",
    "### Closing Thoughts"
   ]
  },
  {
   "cell_type": "markdown",
   "metadata": {},
   "source": [
    "I began this kernel with a quote from the doctor,\n",
    "\n",
    "***“The results are back. You’ve got a 1 in 64 chance”***\n",
    "\n",
    "And at that time, the response from myself and my relative were extremely negative, and I seem to recall that we didn't question the result at all. If and when I find myself in a similar situation, I would be wise to ask some of the following,\n",
    "\n",
    "- What is the sensitivity and specificity of the test?\n",
    "- How were those values determined?\n",
    "- What was the sample size?\n",
    "- What are the confidence interval ranges?\n",
    "- Was the population used for the evaluation comparable to real-world use?\n",
    "- Are you sure the study was free of bias?\n",
    "- Have you put my test results in the context of a Bayesian prior?\n",
    "- If so, what evidence do you have for how you determined the prior?”\n",
    "\n",
    "Very often, one if not several of the above questions will have some very shaky answers. So, the take-home message with a diagnostic test result is ... don't panic. Yes, it could be correct. It might even be probably correct. But these tests aren't perfect, *especially* if relatively unsophisticated and *especially* if taken without context....\n",
    "\n",
    "\n",
    "\n",
    "\n",
    "... probably :-)\n",
    "\n",
    "\n",
    "\n"
   ]
  },
  {
   "cell_type": "markdown",
   "metadata": {},
   "source": [
    "<a id='References'></a>\n",
    "### References\n",
    "\n",
    "[1] Jacob, K. S. [\"The challenge of medical diagnosis: A primer on principles, probability, process and pitfalls.\"](https://www.ncbi.nlm.nih.gov/pubmed/26219318) (2015).\n",
    "\n",
    "[2] Powers, David MW. [\"The problem of area under the curve.\"](http://ieeexplore.ieee.org/document/6221710/) Information Science and Technology (ICIST), 2012 International Conference on. IEEE, 2012.\n",
    "\n",
    "[3] [The Area Under an ROC Curve](http://gim.unmc.edu/dxtests/roc3.htm)\n",
    "\n",
    "[4] [What causes high bilirubin levels?](https://www.medicalnewstoday.com/articles/315086.php)\n",
    "\n",
    "[5] [Youden's J statistic](https://en.wikipedia.org/wiki/Youden%27s_J_statistic)\n",
    "\n",
    "[6] Hajian-Tilaki, Karimollah. [\"Receiver operating characteristic (ROC) curve analysis for medical diagnostic test evaluation.\"](https://www.ncbi.nlm.nih.gov/pmc/articles/PMC3755824/) Caspian journal of internal medicine 4.2 (2013): 627.\n",
    "\n",
    "[7] Akobeng, Anthony K. [\"Understanding diagnostic tests 3: receiver operating characteristic curves.\"](https://www.ncbi.nlm.nih.gov/pubmed/17376185) Acta paediatrica 96.5 (2007): 644-647.\n",
    "\n",
    "[8] Kumar, Rajeev, and Abhaya Indrayan. [\"Receiver operating characteristic (ROC) curve for medical researchers.\"](https://www.ncbi.nlm.nih.gov/pubmed/21532099) Indian pediatrics 48.4 (2011): 277-287.\n",
    "\n",
    "[9] Hawkins, Robert C. [\"The evidence based medicine approach to diagnostic testing: practicalities and limitations.\"](https://www.ncbi.nlm.nih.gov/pmc/articles/PMC1252824/) *Clin Biochem Rev* 26.2 (2005): 7-18.\n",
    "\n",
    "[10] Cook, Chad, Joshua Cleland, and Peter Huijbregts. [\"Creation and critique of studies of diagnostic accuracy: use of the STARD and QUADAS methodological quality assessment tools.\"](http://www.tandfonline.com/doi/abs/10.1179/106698107790819945) *Journal of Manual & Manipulative Therapy* 15.2 (2007): 93-102.\n",
    "\n",
    "[11] Pearl, William S. [\"A hierarchical outcomes approach to test assessment.\"](http://www.annemergmed.com/article/S0196-0644(99)70421-X/abstract) *Annals of emergency medicine* 33.1 (1999): 77-84.\n",
    "\n",
    "[12] Hegedus, Eric J., and Ben Stern. [\"Beyond SpPIN and SnNOUT: considerations with dichotomous tests during assessment of diagnostic accuracy.\"](http://www.tandfonline.com/doi/abs/10.1179/jmt.2009.17.1.1E) *Journal of Manual & Manipulative Therapy* 17.1 (2009): 1E-5E.\n",
    "\n",
    "[13] Pewsner, Daniel, et al. [\"Ruling a diagnosis in or out with “SpPIn” and “SnNOut”: a note of caution.\"](http://www.bmj.com/content/329/7459/209.short) *Bmj* 329.7459 (2004): 209-213.\n",
    "\n",
    "[14] Roever, L. [\"Types of Bias in Studies of Diagnostic Test Accuracy.\"](https://www.omicsonline.org/open-access/types-of-bias-in-studies-of-diagnostic-test-accuracy-ebmp-1000e113.php?aid=70361) Evidence Based Medicine and Practice Open Access Journal: 1000e113. doi 10 (2015): 2.\n",
    "\n",
    "[15] Gill, Christopher J., Lora Sabin, and Christopher H. Schmid. [\"Why clinicians are natural bayesians.\"](http://www.bmj.com/content/330/7499/1080.short) Bmj 330.7499 (2005): 1080-1083.\n",
    "\n",
    "[16] Reid, M. Carrington, David A. Lane, and Alvan R. Feinstein. [\"Academic Calculations versus Clinical Judgments: Practicing Physicians’ Use of Quantitative Measures of Test Accuracy 1.\"](http://www.amjmed.com/article/S0002-9343(98)00054-0/pdf) The American journal of medicine 104.4 (1998): 374-380.\n",
    "\n",
    "[17] Whiting, Penny F., et al. [\"How well do health professionals interpret diagnostic information? A systematic review.\"](http://bmjopen.bmj.com/content/5/7/e008155) BMJ open 5.7 (2015): e008155.\n",
    "\n",
    "[18] The Advanced Handbook of Methods in Evidence Based Healthcare, Stevens, A et al. Chapter 16 – Bayesian Methods\n",
    "\n",
    "[19] Agoritsas, Thomas, et al. [\"Does prevalence matter to physicians in estimating post-test probability of disease? A randomized trial.\"](https://www.ncbi.nlm.nih.gov/pmc/articles/PMC3055966/) Journal of general internal medicine 26.4 (2011): 373-378.\n",
    "\n",
    "[20] [Home pregnancy tests may detect men's cancer](http://thechart.blogs.cnn.com/2012/11/08/home-pregnancy-tests-may-detect-mens-cancer/)\n",
    "\n",
    "[21] Gosling, John Paul. [\"Methods for eliciting expert opinion to inform health technology assessment.\"](https://pdfs.semanticscholar.org/38eb/a762cdaf5d6dae2fee2063bf776d5facec5b.pdf) Vignette Commissioned by the MRC Methodology Advisory Group. Medical Research Council (MRC) and National Institure for Health Research (NIHR) (2014).\n",
    "\n",
    "[22] Dolan, James G., Donald R. Bordley, and Alvin I. Mushlin. [\"An Evaluation of Clinicians' Subjective Prior Probability Estimates.\"](https://www.ncbi.nlm.nih.gov/pubmed/3773651) Medical Decision Making 6.4 (1986): 216-223.\n",
    "\n",
    "[23] Johnson, Sindhu R., et al. [\"Methods to elicit beliefs for Bayesian priors: a systematic review.\"](http://www.jclinepi.com/article/S0895-4356(09)00175-9/pdf) Journal of clinical epidemiology 63.4 (2010): 355-369.\n",
    "\n",
    "[24] [Chapter 2. Quantifying disease in populations](http://www.bmj.com/about-bmj/resources-readers/publications/epidemiology-uninitiated/2-quantifying-disease-populations) *Bjm*\n",
    "\n",
    "[25] - Pendharkar, Sayali A., Juby Mathew, and Maxim S. Petrov. [\"Age-and sex-specific prevalence of diabetes associated with diseases of the exocrine pancreas: a population-based study.\"](https://www.ncbi.nlm.nih.gov/pubmed/28110921) Digestive and Liver Disease 49.5 (2017): 540-544.\n",
    "\n",
    "[26] - Pewsner, Daniel, et al. [\"Ruling a diagnosis in or out with “SpPIn” and “SnNOut”: a note of caution.\"](http://www.bmj.com/content/329/7459/209) Bmj 329.7459 (2004): 209-213.\n",
    "\n",
    "[27] - Hegedus, Eric J., and Ben Stern. [\"Beyond SpPIN and SnNOUT: considerations with dichotomous tests during assessment of diagnostic accuracy.\"](https://www.ncbi.nlm.nih.gov/pmc/articles/PMC2704350/) Journal of Manual & Manipulative Therapy 17.1 (2009): 1E-5E.\n",
    "\n",
    "[28] - [Bayes, Medical Diagnostics, and Nomograms](https://www.youtube.com/watch?v=7VTQ1glcXYg&feature=youtu.be)\n",
    "\n",
    "[29] - Homwong, Nitipong, et al. [\"A Bayesian approach for inductive reasoning to clinical veterinary medicine: The math of experience.\"](http://www.academicjournals.org/journal/JVMAH/article-abstract/C0C1ED055220) Journal of Veterinary Medicine and Animal Health 7.10 (2015): 308-316.\n",
    "\n",
    "[30] - Lesaffre, Emmanuel, Niko Speybroeck, and Dirk Berkvens. [\"Bayes and diagnostic testing.\"](http://www.cbra.be/publications/Lesaffre2007.pdf) Veterinary parasitology 148.1 (2007): 58-61.\n",
    "\n",
    "[31] - L ESPALLARDO, Noel. [\"Decisions on diagnosis in family practice: Use of sensitivity, specificity, predictive values and likelihood ratios.\"](http://onlinelibrary.wiley.com/doi/10.1111/j.1444-1683.2003.00095.x/abstract) Asia Pacific Family Medicine 2.4 (2003): 229-232.\n",
    "\n",
    "[32] - Marasco, Joe, Ron Doerfler, and Leif Roschier. [\"Doc, what are my chances.\"](http://www.myreckonings.com/modernnomograms/Doc_What_Are_My_Chances_UMAP_32-4-2011.pdf) UMAP Journal 32 (2011): 279-298.\n",
    "\n",
    "[33] - Petrie, A., J. S. Bulman, and J. F. Osborn. [\"Further statistics in dentistry Part 9: Bayesian statistics.\"](https://www.nature.com/articles/4809892) British dental journal 194.3 (2003): 129-134.\n",
    "\n",
    "[34] - Brown, Michael D., and Mathew J. Reeves. [\"Interval likelihood ratios: another advantage for the evidence-based diagnostician.\"](http://www.annemergmed.com/article/S0196-0644(03)00401-3/abstract) Annals of emergency medicine 42.2 (2003): 292-297.\n",
    "\n",
    "[35] - Grimes, David A., and Kenneth F. Schulz. [\"Refining clinical diagnosis with likelihood ratios.\"](https://www.ncbi.nlm.nih.gov/pubmed/15850636) The Lancet 365.9469 (2005): 1500-1505.\n",
    "\n",
    "[36] - McGee, Steven. [\"Simplifying likelihood ratios.\"](https://www.ncbi.nlm.nih.gov/pmc/articles/PMC1495095/) Journal of general internal medicine 17.8 (2002): 647-650.\n",
    "\n",
    "[37] - Van den Ende, Jef, et al. [\"The trouble with likelihood ratios.\"](http://www.thelancet.com/journals/lancet/article/PIIS0140-6736(05)67096-1/fulltext) The Lancet 366.9485 (2005): 548.\n",
    "\n",
    "[38] - Caraguel, Charles GB, and Raphaël Vanderstichel. [\"The two-step Fagan's nomogram: ad hoc interpretation of a diagnostic test result without calculation.\"](http://ebm.bmj.com/content/18/4/125) Evidence Based Medicine 18.4 (2013): 125-128.\n",
    "\n",
    "[39] - Gardner, I. A. [\"The utility of Bayes' theorem and Bayesian inference in veterinary clinical practice and research.\"](https://www.ncbi.nlm.nih.gov/pubmed/12537141) Australian veterinary journal 80.12 (2002): 758-761.\n",
    "\n",
    "[40] - Paulo, S., et al. [\"Diagnostic testing, pre-and post-test probabilities, and their use in clinical practice.\"](https://www.ncbi.nlm.nih.gov/pubmed/15587576) Revista portuguesa de cardiologia: orgao oficial da Sociedade Portuguesa de Cardiologia= Portuguese journal of cardiology: an official journal of the Portuguese Society of Cardiology 23.9 (2004): 1187-1198.\n",
    "\n",
    "[41] - Herrle, Scott R., et al. [\"Bayes’ theorem and the physical examination: probability assessment and diagnostic decision-making.\"](https://www.ncbi.nlm.nih.gov/pubmed/21436660) Academic medicine: journal of the Association of American Medical Colleges 86.5 (2011): 618.\n",
    "\n",
    "[42] - Houben, Paul HH, et al. [\"Pretest expectations strongly influence interpretation of abnormal laboratory results and further management.\"](https://www.ncbi.nlm.nih.gov/pubmed/20158908) BMC family practice 11.1 (2010): 13.\n",
    "\n",
    "[43] - Lyman, Gary H., and Lodovico Balducci. [\"The effect of changing disease risk on clinical reasoning.\"](https://www.ncbi.nlm.nih.gov/pubmed/7996291) Journal of general internal medicine 9.9 (1994): 488-495.\n",
    "\n",
    "[44] - Grigore, Bogdan, et al. [\"A comparison of two methods for expert elicitation in health technology assessments.\"](https://bmcmedresmethodol.biomedcentral.com/articles/10.1186/s12874-016-0186-3) BMC Medical Research Methodology 16.1 (2016): 85.\n",
    "\n",
    "[45] - [Methodology for Eliciting Expert Opinion](https://www.mrc.ac.uk/funding/how-we-fund-research/highlight-notices/methodology-for-eliciting-expert-opinion/)\n",
    "\n",
    "[46] - Garthwaite, Paul H., Joseph B. Kadane, and Anthony O'Hagan. [\"Statistical methods for eliciting probability distributions.\"](http://www.tandfonline.com/doi/abs/10.1198/016214505000000105) Journal of the American Statistical Association 100.470 (2005): 680-701.\n",
    "\n",
    "[47] - Hampson, Lisa V., et al. [\"Elicitation of expert prior opinion: application to the MYPAN trial in childhood polyarteritis nodosa.\"](http://journals.plos.org/plosone/article?id=10.1371/journal.pone.0120981) PloS one 10.3 (2015): e0120981.\n",
    "\n",
    "[48] - Cochon, Laila, et al. [\"Acute Care Diagnostic Collaboration: Bayesian modeling comparative diagnostic assessment of lactate, procalcitonin and CRP in risk stratified population by Mortality in Emergency Department (MEDS) score.\"](https://www.ncbi.nlm.nih.gov/pubmed/28040383) The American Journal of Emergency Medicine (2016).\n",
    "\n",
    "[49] - Shapiro, Nathan I., et al. [\"Mortality in Emergency Department Sepsis (MEDS) score: a prospectively derived and validated clinical prediction rule.\"](https://www.ncbi.nlm.nih.gov/pubmed/12626967) Critical care medicine 31.3 (2003): 670-675.\n",
    "\n",
    "[50] - [Mortality in Emergency Department Sepsis (MEDS) score](http://emcalculator.com/meds)\n",
    "\n",
    "[51] - Cochon, L., A. A. Baez, and A. Ovalle. [\"59 Bayesian Model for Comparative Assessment of Lactate and Procalcitonin using CURB 65 Risk Score as Predictor for ICU Admission.\"](https://www.annemergmed.com/article/S0196-0644(14)00691-X/fulltext) Annals of emergency medicine 64.4 (2014): S21-S22.\n",
    "\n",
    "[52] - Lim, W. S., et al. [\"Defining community acquired pneumonia severity on presentation to hospital: an international derivation and validation study.\"](https://www.ncbi.nlm.nih.gov/pubmed/12728155) Thorax 58.5 (2003): 377-382.\n",
    "\n",
    "[53] - [CURB-65 Score for Pneumonia Severity](https://www.mdcalc.com/curb-65-score-pneumonia-severity)\n",
    "\n",
    "[54] - 42.\tLu, Hsueh-Yi, et al. [\"Predicting rotator cuff tears using data mining and bayesian likelihood ratios.\"](http://journals.plos.org/plosone/article?id=10.1371/journal.pone.0094917) PloS one 9.4 (2014): e94917."
   ]
  },
  {
   "cell_type": "code",
   "execution_count": null,
   "metadata": {
    "collapsed": true
   },
   "outputs": [],
   "source": []
  }
 ],
 "metadata": {
  "kernelspec": {
   "display_name": "Python 3",
   "language": "python",
   "name": "python3"
  },
  "language_info": {
   "codemirror_mode": {
    "name": "ipython",
    "version": 3
   },
   "file_extension": ".py",
   "mimetype": "text/x-python",
   "name": "python",
   "nbconvert_exporter": "python",
   "pygments_lexer": "ipython3",
   "version": "3.6.4"
  }
 },
 "nbformat": 4,
 "nbformat_minor": 2
}
